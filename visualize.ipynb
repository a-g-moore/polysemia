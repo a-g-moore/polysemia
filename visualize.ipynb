{
 "cells": [
  {
   "attachments": {},
   "cell_type": "markdown",
   "metadata": {},
   "source": [
    "# Setup and Settings\n",
    "\n",
    "Necessary imports and settings:"
   ]
  },
  {
   "cell_type": "code",
   "execution_count": 14,
   "metadata": {},
   "outputs": [],
   "source": [
    "import torch, os\n",
    "from sklearn.decomposition import PCA\n",
    "from sklearn.cluster import OPTICS\n",
    "import pandas as pd\n",
    "import plotly.io as pio\n",
    "import plotly.express as px\n",
    "pio.renderers.default = \"vscode\""
   ]
  },
  {
   "attachments": {},
   "cell_type": "markdown",
   "metadata": {},
   "source": [
    "We now select a word to analyze. Note that to visualize data, you must have already created the processed data file using \n",
    "```sh\n",
    "python main.py --word [your_word]\n",
    "```\n",
    "\n",
    "Processed data will be loaded from `cache/[your_word].pt`. "
   ]
  },
  {
   "cell_type": "code",
   "execution_count": 15,
   "metadata": {},
   "outputs": [],
   "source": [
    "word = 'right'"
   ]
  },
  {
   "attachments": {},
   "cell_type": "markdown",
   "metadata": {},
   "source": [
    "# Data Processing\n",
    "\n",
    "The data stored in `cache` will contain a table of the metadata and the vector embeddings of each use of the word. To visualize it, we must preform some analysis. The following code will load the data, preform PCA to reduce the dimension, and then apply a clustering algorithm to attempt to automatically differentiate the different meanings. "
   ]
  },
  {
   "cell_type": "code",
   "execution_count": null,
   "metadata": {},
   "outputs": [
    {
     "name": "stdout",
     "output_type": "stream",
     "text": [
      "Number of samples: 70\n"
     ]
    },
    {
     "name": "stderr",
     "output_type": "stream",
     "text": [
      "/var/folders/1z/pj46f__53nx398ghqtvb9q_w0000gn/T/ipykernel_17124/789712838.py:6: FutureWarning:\n",
      "\n",
      "You are using `torch.load` with `weights_only=False` (the current default value), which uses the default pickle module implicitly. It is possible to construct malicious pickle data which will execute arbitrary code during unpickling (See https://github.com/pytorch/pytorch/blob/main/SECURITY.md#untrusted-models for more details). In a future release, the default value for `weights_only` will be flipped to `True`. This limits the functions that could be executed during unpickling. Arbitrary objects will no longer be allowed to be loaded via this mode unless they are explicitly allowlisted by the user via `torch.serialization.add_safe_globals`. We recommend you start setting `weights_only=True` for any use case where you don't have full control of the loaded file. Please open an issue on GitHub for any issues related to this experimental feature.\n",
      "\n"
     ]
    }
   ],
   "source": [
    "\n",
    "def format_author(author):\n",
    "    return ' '.join(author.split(',')[::-1])\n",
    "\n",
    "# Load the cached data for this word and ouput the sample size\n",
    "with open(os.path.join(os.getcwd(), f'cache/{word}.pt'), 'rb') as FILE:\n",
    "    tensor, metadata = torch.load(FILE)\n",
    "\n",
    "num_samples = len(metadata)\n",
    "print(f'Number of samples: {num_samples}')\n",
    "\n",
    "# Preform PCA & clustering on the embedded vectors\n",
    "pca = PCA(n_components = 20)\n",
    "transformed_data = pca.fit_transform(tensor.to('cpu').numpy())\n",
    "clustering = OPTICS(xi = 0.001).fit_predict(transformed_data)"
   ]
  },
  {
   "cell_type": "code",
   "execution_count": 17,
   "metadata": {},
   "outputs": [
    {
     "data": {
      "text/html": [
       "<div>\n",
       "<style scoped>\n",
       "    .dataframe tbody tr th:only-of-type {\n",
       "        vertical-align: middle;\n",
       "    }\n",
       "\n",
       "    .dataframe tbody tr th {\n",
       "        vertical-align: top;\n",
       "    }\n",
       "\n",
       "    .dataframe thead th {\n",
       "        text-align: right;\n",
       "    }\n",
       "</style>\n",
       "<table border=\"1\" class=\"dataframe\">\n",
       "  <thead>\n",
       "    <tr style=\"text-align: right;\">\n",
       "      <th></th>\n",
       "      <th>id</th>\n",
       "      <th>title</th>\n",
       "      <th>author</th>\n",
       "      <th>authoryearofbirth</th>\n",
       "      <th>authoryearofdeath</th>\n",
       "      <th>language</th>\n",
       "      <th>downloads</th>\n",
       "      <th>subjects</th>\n",
       "      <th>type</th>\n",
       "      <th>context</th>\n",
       "    </tr>\n",
       "  </thead>\n",
       "  <tbody>\n",
       "    <tr>\n",
       "      <th>9999</th>\n",
       "      <td>/Users/andrewmoore/work/llc/polysemia/polysemi...</td>\n",
       "      <td>The Magna Carta</td>\n",
       "      <td>Anonymous</td>\n",
       "      <td>NaN</td>\n",
       "      <td>NaN</td>\n",
       "      <td>['en']</td>\n",
       "      <td>188.0</td>\n",
       "      <td>{'Magna Carta', 'Constitutional history -- Eng...</td>\n",
       "      <td>Text</td>\n",
       "      <td>... of the church elections a&lt;i&gt; right&lt;/i&gt; rec...</td>\n",
       "    </tr>\n",
       "    <tr>\n",
       "      <th>9999</th>\n",
       "      <td>/Users/andrewmoore/work/llc/polysemia/polysemi...</td>\n",
       "      <td>The Magna Carta</td>\n",
       "      <td>Anonymous</td>\n",
       "      <td>NaN</td>\n",
       "      <td>NaN</td>\n",
       "      <td>['en']</td>\n",
       "      <td>188.0</td>\n",
       "      <td>{'Magna Carta', 'Constitutional history -- Eng...</td>\n",
       "      <td>Text</td>\n",
       "      <td>... thereby be deprived of the&lt;i&gt; right&lt;/i&gt; of...</td>\n",
       "    </tr>\n",
       "    <tr>\n",
       "      <th>9999</th>\n",
       "      <td>/Users/andrewmoore/work/llc/polysemia/polysemi...</td>\n",
       "      <td>The Magna Carta</td>\n",
       "      <td>Anonymous</td>\n",
       "      <td>NaN</td>\n",
       "      <td>NaN</td>\n",
       "      <td>['en']</td>\n",
       "      <td>188.0</td>\n",
       "      <td>{'Magna Carta', 'Constitutional history -- Eng...</td>\n",
       "      <td>Text</td>\n",
       "      <td>... no one deny or delay&lt;i&gt; right&lt;/i&gt; or justi...</td>\n",
       "    </tr>\n",
       "    <tr>\n",
       "      <th>9999</th>\n",
       "      <td>/Users/andrewmoore/work/llc/polysemia/polysemi...</td>\n",
       "      <td>The Magna Carta</td>\n",
       "      <td>Anonymous</td>\n",
       "      <td>NaN</td>\n",
       "      <td>NaN</td>\n",
       "      <td>['en']</td>\n",
       "      <td>188.0</td>\n",
       "      <td>{'Magna Carta', 'Constitutional history -- Eng...</td>\n",
       "      <td>Text</td>\n",
       "      <td>... fee claims to own a&lt;i&gt; right&lt;/i&gt; on our re...</td>\n",
       "    </tr>\n",
       "    <tr>\n",
       "      <th>9999</th>\n",
       "      <td>/Users/andrewmoore/work/llc/polysemia/polysemi...</td>\n",
       "      <td>The Magna Carta</td>\n",
       "      <td>Anonymous</td>\n",
       "      <td>NaN</td>\n",
       "      <td>NaN</td>\n",
       "      <td>['en']</td>\n",
       "      <td>188.0</td>\n",
       "      <td>{'Magna Carta', 'Constitutional history -- Eng...</td>\n",
       "      <td>Text</td>\n",
       "      <td>... will we refuse or delay&lt;i&gt; right&lt;/i&gt; or ju...</td>\n",
       "    </tr>\n",
       "    <tr>\n",
       "      <th>...</th>\n",
       "      <td>...</td>\n",
       "      <td>...</td>\n",
       "      <td>...</td>\n",
       "      <td>...</td>\n",
       "      <td>...</td>\n",
       "      <td>...</td>\n",
       "      <td>...</td>\n",
       "      <td>...</td>\n",
       "      <td>...</td>\n",
       "      <td>...</td>\n",
       "    </tr>\n",
       "    <tr>\n",
       "      <th>10001</th>\n",
       "      <td>/Users/andrewmoore/work/llc/polysemia/polysemi...</td>\n",
       "      <td>The House on the Borderland</td>\n",
       "      <td>Hodgson, William Hope</td>\n",
       "      <td>1877.0</td>\n",
       "      <td>1918.0</td>\n",
       "      <td>['en']</td>\n",
       "      <td>593.0</td>\n",
       "      <td>{'Science fiction'}</td>\n",
       "      <td>Text</td>\n",
       "      <td>... silences far to my&lt;i&gt; right&lt;/i&gt; away up am...</td>\n",
       "    </tr>\n",
       "    <tr>\n",
       "      <th>10001</th>\n",
       "      <td>/Users/andrewmoore/work/llc/polysemia/polysemi...</td>\n",
       "      <td>The House on the Borderland</td>\n",
       "      <td>Hodgson, William Hope</td>\n",
       "      <td>1877.0</td>\n",
       "      <td>1918.0</td>\n",
       "      <td>['en']</td>\n",
       "      <td>593.0</td>\n",
       "      <td>{'Science fiction'}</td>\n",
       "      <td>Text</td>\n",
       "      <td>... study is situated there lying&lt;i&gt; right&lt;/i&gt;...</td>\n",
       "    </tr>\n",
       "    <tr>\n",
       "      <th>10001</th>\n",
       "      <td>/Users/andrewmoore/work/llc/polysemia/polysemi...</td>\n",
       "      <td>The House on the Borderland</td>\n",
       "      <td>Hodgson, William Hope</td>\n",
       "      <td>1877.0</td>\n",
       "      <td>1918.0</td>\n",
       "      <td>['en']</td>\n",
       "      <td>593.0</td>\n",
       "      <td>{'Science fiction'}</td>\n",
       "      <td>Text</td>\n",
       "      <td>... at the window on my&lt;i&gt; right&lt;/i&gt; as i do s...</td>\n",
       "    </tr>\n",
       "    <tr>\n",
       "      <th>10001</th>\n",
       "      <td>/Users/andrewmoore/work/llc/polysemia/polysemi...</td>\n",
       "      <td>The House on the Borderland</td>\n",
       "      <td>Hodgson, William Hope</td>\n",
       "      <td>1877.0</td>\n",
       "      <td>1918.0</td>\n",
       "      <td>['en']</td>\n",
       "      <td>593.0</td>\n",
       "      <td>{'Science fiction'}</td>\n",
       "      <td>Text</td>\n",
       "      <td>... it has covered all my&lt;i&gt; right&lt;/i&gt; arm and...</td>\n",
       "    </tr>\n",
       "    <tr>\n",
       "      <th>10001</th>\n",
       "      <td>/Users/andrewmoore/work/llc/polysemia/polysemi...</td>\n",
       "      <td>The House on the Borderland</td>\n",
       "      <td>Hodgson, William Hope</td>\n",
       "      <td>1877.0</td>\n",
       "      <td>1918.0</td>\n",
       "      <td>['en']</td>\n",
       "      <td>593.0</td>\n",
       "      <td>{'Science fiction'}</td>\n",
       "      <td>Text</td>\n",
       "      <td>... conviction that tonnison was&lt;i&gt; right&lt;/i&gt; ...</td>\n",
       "    </tr>\n",
       "  </tbody>\n",
       "</table>\n",
       "<p>70 rows × 10 columns</p>\n",
       "</div>"
      ],
      "text/plain": [
       "                                                      id  \\\n",
       "9999   /Users/andrewmoore/work/llc/polysemia/polysemi...   \n",
       "9999   /Users/andrewmoore/work/llc/polysemia/polysemi...   \n",
       "9999   /Users/andrewmoore/work/llc/polysemia/polysemi...   \n",
       "9999   /Users/andrewmoore/work/llc/polysemia/polysemi...   \n",
       "9999   /Users/andrewmoore/work/llc/polysemia/polysemi...   \n",
       "...                                                  ...   \n",
       "10001  /Users/andrewmoore/work/llc/polysemia/polysemi...   \n",
       "10001  /Users/andrewmoore/work/llc/polysemia/polysemi...   \n",
       "10001  /Users/andrewmoore/work/llc/polysemia/polysemi...   \n",
       "10001  /Users/andrewmoore/work/llc/polysemia/polysemi...   \n",
       "10001  /Users/andrewmoore/work/llc/polysemia/polysemi...   \n",
       "\n",
       "                             title                 author  authoryearofbirth  \\\n",
       "9999               The Magna Carta              Anonymous                NaN   \n",
       "9999               The Magna Carta              Anonymous                NaN   \n",
       "9999               The Magna Carta              Anonymous                NaN   \n",
       "9999               The Magna Carta              Anonymous                NaN   \n",
       "9999               The Magna Carta              Anonymous                NaN   \n",
       "...                            ...                    ...                ...   \n",
       "10001  The House on the Borderland  Hodgson, William Hope             1877.0   \n",
       "10001  The House on the Borderland  Hodgson, William Hope             1877.0   \n",
       "10001  The House on the Borderland  Hodgson, William Hope             1877.0   \n",
       "10001  The House on the Borderland  Hodgson, William Hope             1877.0   \n",
       "10001  The House on the Borderland  Hodgson, William Hope             1877.0   \n",
       "\n",
       "       authoryearofdeath language  downloads  \\\n",
       "9999                 NaN   ['en']      188.0   \n",
       "9999                 NaN   ['en']      188.0   \n",
       "9999                 NaN   ['en']      188.0   \n",
       "9999                 NaN   ['en']      188.0   \n",
       "9999                 NaN   ['en']      188.0   \n",
       "...                  ...      ...        ...   \n",
       "10001             1918.0   ['en']      593.0   \n",
       "10001             1918.0   ['en']      593.0   \n",
       "10001             1918.0   ['en']      593.0   \n",
       "10001             1918.0   ['en']      593.0   \n",
       "10001             1918.0   ['en']      593.0   \n",
       "\n",
       "                                                subjects  type  \\\n",
       "9999   {'Magna Carta', 'Constitutional history -- Eng...  Text   \n",
       "9999   {'Magna Carta', 'Constitutional history -- Eng...  Text   \n",
       "9999   {'Magna Carta', 'Constitutional history -- Eng...  Text   \n",
       "9999   {'Magna Carta', 'Constitutional history -- Eng...  Text   \n",
       "9999   {'Magna Carta', 'Constitutional history -- Eng...  Text   \n",
       "...                                                  ...   ...   \n",
       "10001                                {'Science fiction'}  Text   \n",
       "10001                                {'Science fiction'}  Text   \n",
       "10001                                {'Science fiction'}  Text   \n",
       "10001                                {'Science fiction'}  Text   \n",
       "10001                                {'Science fiction'}  Text   \n",
       "\n",
       "                                                 context  \n",
       "9999   ... of the church elections a<i> right</i> rec...  \n",
       "9999   ... thereby be deprived of the<i> right</i> of...  \n",
       "9999   ... no one deny or delay<i> right</i> or justi...  \n",
       "9999   ... fee claims to own a<i> right</i> on our re...  \n",
       "9999   ... will we refuse or delay<i> right</i> or ju...  \n",
       "...                                                  ...  \n",
       "10001  ... silences far to my<i> right</i> away up am...  \n",
       "10001  ... study is situated there lying<i> right</i>...  \n",
       "10001  ... at the window on my<i> right</i> as i do s...  \n",
       "10001  ... it has covered all my<i> right</i> arm and...  \n",
       "10001  ... conviction that tonnison was<i> right</i> ...  \n",
       "\n",
       "[70 rows x 10 columns]"
      ]
     },
     "execution_count": 17,
     "metadata": {},
     "output_type": "execute_result"
    }
   ],
   "source": [
    "metadata"
   ]
  },
  {
   "attachments": {},
   "cell_type": "markdown",
   "metadata": {},
   "source": [
    "# Visualization\n",
    "\n",
    "Now that the data has been processed, we just need to make a plot! We will use a three dimensional scatter plot along the three most important principal axes."
   ]
  },
  {
   "cell_type": "code",
   "execution_count": 18,
   "metadata": {},
   "outputs": [
    {
     "data": {
      "application/vnd.plotly.v1+json": {
       "config": {
        "plotlyServerURL": "https://plot.ly"
       },
       "data": [
        {
         "customdata": [
          [
           "... of the church elections a<i> right</i> reckoned to be of...",
           "Anonymous, ",
           "The Magna Carta"
          ],
          [
           "... thereby be deprived of the<i> right</i> of trial in his own...",
           "Anonymous, ",
           "The Magna Carta"
          ],
          [
           "... no one deny or delay<i> right</i> or justice all merchants may...",
           "Anonymous, ",
           "The Magna Carta"
          ],
          [
           "... fee claims to own a<i> right</i> on our return from the...",
           "Anonymous, ",
           "The Magna Carta"
          ],
          [
           "... will we refuse or delay<i> right</i> or justice all merchants shall...",
           "Anonymous, ",
           "The Magna Carta"
          ],
          [
           "... franchises or from his<i> right</i> we will immediately restore them...",
           "Anonymous, ",
           "The Magna Carta"
          ],
          [
           "... fief claims to have<i> right</i> and when we have returned...",
           "Anonymous, ",
           "The Magna Carta"
          ],
          [
           "... his franchises and his<i> right</i> in the same manner as...",
           "Anonymous, ",
           "The Magna Carta"
          ],
          [
           "... will we refuse or delay<i> right</i> or justice all merchants shall...",
           "Anonymous, ",
           "The Magna Carta"
          ],
          [
           "... franchises or from his<i> right</i> we will immediately restore them...",
           "Anonymous, ",
           "The Magna Carta"
          ],
          [
           "... the fee claims to have<i> right</i> and when we have returned...",
           "Anonymous, ",
           "The Magna Carta"
          ],
          [
           "... his franchises and his<i> right</i> in the same manner as...",
           "Anonymous, ",
           "The Magna Carta"
          ],
          [
           "... desolation afar to my<i> right</i> within the sky there burnt...",
           " William Hope Hodgson, ",
           "The House on the Borderland"
          ],
          [
           "... the dim peaks to my<i> right</i> i had descried a...",
           " William Hope Hodgson, ",
           "The House on the Borderland"
          ],
          [
           "... the extent of plunging<i> right</i> through the bushes probing with...",
           " William Hope Hodgson, ",
           "The House on the Borderland"
          ],
          [
           "... among the bushes to my<i> right</i> instantly i turned and aiming...",
           " William Hope Hodgson, ",
           "The House on the Borderland"
          ],
          [
           "... of stones somewhere to my<i> right</i> i glanced across but could...",
           " William Hope Hodgson, ",
           "The House on the Borderland"
          ],
          [
           "... down i discharged my gun<i> right</i> into its face straightway...",
           " William Hope Hodgson, ",
           "The House on the Borderland"
          ],
          [
           "... i had ever before been<i> right</i> through the cellars as...",
           " William Hope Hodgson, ",
           "The House on the Borderland"
          ],
          [
           "... cellar and keeping to the<i> right</i> paced slowly up until...",
           " William Hope Hodgson, ",
           "The House on the Borderland"
          ],
          [
           "... me from the house perhaps<i> right</i> into their arms the thought...",
           " William Hope Hodgson, ",
           "The House on the Borderland"
          ],
          [
           "... couple of feet to the<i> right</i> of the nearer end was...",
           " William Hope Hodgson, ",
           "The House on the Borderland"
          ],
          [
           "... the props had been driven<i> right</i> through a panel this was...",
           " William Hope Hodgson, ",
           "The House on the Borderland"
          ],
          [
           "... distance down the cleft and<i> right</i> in the angle of the...",
           " William Hope Hodgson, ",
           "The House on the Borderland"
          ],
          [
           "... aware that somewhere to my<i> right</i> there was a noise of...",
           " William Hope Hodgson, ",
           "The House on the Borderland"
          ],
          [
           "...ump of bushes on our<i> right</i> pepper disappeared and i could...",
           " William Hope Hodgson, ",
           "The House on the Borderland"
          ],
          [
           "... the rocky wall on my<i> right</i> and holding the candle above...",
           " William Hope Hodgson, ",
           "The House on the Borderland"
          ],
          [
           "... raised my gun using my<i> right</i> hand only and aimed quickly...",
           " William Hope Hodgson, ",
           "The House on the Borderland"
          ],
          [
           "... trended steadily to the<i> right</i> and so after some minutes...",
           " William Hope Hodgson, ",
           "The House on the Borderland"
          ],
          [
           "... me that the water reached<i> right</i> across the passage and was...",
           " William Hope Hodgson, ",
           "The House on the Borderland"
          ],
          [
           "... of the must have been<i> right</i> beneath me another thought struck...",
           " William Hope Hodgson, ",
           "The House on the Borderland"
          ],
          [
           "...aping hill away to my<i> right</i> though it is not impossible...",
           " William Hope Hodgson, ",
           "The House on the Borderland"
          ],
          [
           "... to drop away on my<i> right</i> time passed and the earth...",
           " William Hope Hodgson, ",
           "The House on the Borderland"
          ],
          [
           "... fell still more to the<i> right</i> until at last it shone...",
           " William Hope Hodgson, ",
           "The House on the Borderland"
          ],
          [
           "...owness afar to my<i> right</i> i seemed to catch at...",
           " William Hope Hodgson, ",
           "The House on the Borderland"
          ],
          [
           "...able cloud away to my<i> right</i> it grew steadily to a...",
           " William Hope Hodgson, ",
           "The House on the Borderland"
          ],
          [
           "... silences far to my<i> right</i> away up among inaccessible peaks...",
           " William Hope Hodgson, ",
           "The House on the Borderland"
          ],
          [
           "... at the window on my<i> right</i> as i do so i...",
           " William Hope Hodgson, ",
           "The House on the Borderland"
          ],
          [
           "... conviction that tonnison was<i> right</i> it was very late when...",
           " William Hope Hodgson, ",
           "The House on the Borderland"
          ]
         ],
         "hovertemplate": "<b>%{customdata[0]}</b><br>%{customdata[1]}<i>%{customdata[2]}</i>",
         "legendgroup": "",
         "marker": {
          "color": [
           0,
           0,
           0,
           0,
           0,
           0,
           0,
           0,
           0,
           0,
           0,
           0,
           3,
           3,
           1,
           3,
           3,
           1,
           1,
           2,
           1,
           2,
           1,
           2,
           3,
           3,
           3,
           3,
           2,
           1,
           1,
           3,
           3,
           2,
           3,
           3,
           2,
           3,
           1
          ],
          "coloraxis": "coloraxis",
          "opacity": 1,
          "size": [
           0.1,
           0.1,
           0.1,
           0.1,
           0.1,
           0.1,
           0.1,
           0.1,
           0.1,
           0.1,
           0.1,
           0.1,
           0.1,
           0.1,
           0.1,
           0.1,
           0.1,
           0.1,
           0.1,
           0.1,
           0.1,
           0.1,
           0.1,
           0.1,
           0.1,
           0.1,
           0.1,
           0.1,
           0.1,
           0.1,
           0.1,
           0.1,
           0.1,
           0.1,
           0.1,
           0.1,
           0.1,
           0.1,
           0.1
          ],
          "sizemode": "area",
          "sizeref": 0.00025,
          "symbol": "circle"
         },
         "mode": "markers",
         "name": "",
         "scene": "scene",
         "showlegend": false,
         "type": "scatter3d",
         "x": [
          6.93958854675293,
          7.805276870727539,
          8.829984664916992,
          7.050817966461182,
          8.032824516296387,
          4.817507266998291,
          8.338384628295898,
          6.915587425231934,
          8.209378242492676,
          5.244726657867432,
          8.161897659301758,
          6.363308906555176,
          -3.0033345222473145,
          -2.1797561645507812,
          -4.020721435546875,
          -1.1854568719863892,
          -0.9732285737991333,
          -0.29517799615859985,
          -2.164285898208618,
          -2.661853075027466,
          -0.8082016110420227,
          -1.7416326999664307,
          -3.452101707458496,
          -3.048783779144287,
          -0.4299948811531067,
          1.668893575668335,
          0.705871045589447,
          2.2005820274353027,
          -1.9723304510116577,
          -4.938292503356934,
          -1.0755252838134766,
          -2.68756103515625,
          -2.334505796432495,
          -0.11790776252746582,
          -1.7523859739303589,
          -3.4208264350891113,
          -3.8738529682159424,
          -1.4236904382705688,
          -0.5560030341148376
         ],
         "y": [
          0.8818864226341248,
          -1.9116898775100708,
          0.61796635389328,
          0.3340029716491699,
          1.5823012590408325,
          -2.197036027908325,
          0.15849599242210388,
          -1.1458719968795776,
          1.8977950811386108,
          -2.576019525527954,
          0.2847283184528351,
          -0.8544536232948303,
          -3.182661533355713,
          -2.389895439147949,
          4.250933647155762,
          -5.347353458404541,
          -4.775228977203369,
          2.1358821392059326,
          0.1961839348077774,
          -2.571031093597412,
          0.2869866192340851,
          -4.001008987426758,
          3.069044828414917,
          -2.140833616256714,
          -2.831634759902954,
          -1.2073205709457397,
          -2.9202232360839844,
          -4.20907735824585,
          -1.4947259426116943,
          0.8625347018241882,
          1.2354074716567993,
          -3.931945323944092,
          -1.0030500888824463,
          -4.775267124176025,
          -2.617373466491699,
          -2.149113178253174,
          -3.066114902496338,
          -6.698523044586182,
          -1.1880779266357422
         ],
         "z": [
          -0.5283507704734802,
          0.07690464705228806,
          -4.746714115142822,
          1.001793622970581,
          -4.303625106811523,
          4.3822407722473145,
          -2.2816812992095947,
          3.9723780155181885,
          -3.8564088344573975,
          4.269138336181641,
          -2.4842262268066406,
          5.059781551361084,
          3.990662097930908,
          2.568981885910034,
          -1.757389783859253,
          1.1725271940231323,
          2.3620340824127197,
          -3.2059967517852783,
          -3.4199156761169434,
          -0.7259917855262756,
          -2.1591742038726807,
          -0.213731050491333,
          -2.6894874572753906,
          -1.9356070756912231,
          2.6206085681915283,
          3.066068172454834,
          3.3210690021514893,
          0.7874664664268494,
          0.45147544145584106,
          -2.0261943340301514,
          -3.317103147506714,
          2.5336270332336426,
          2.183685779571533,
          -1.249796748161316,
          3.4831912517547607,
          4.561814308166504,
          1.473506212234497,
          1.5899373292922974,
          -2.0807406902313232
         ]
        }
       ],
       "layout": {
        "coloraxis": {
         "colorbar": {
          "title": {
           "text": "cluster"
          }
         },
         "colorscale": [
          [
           0,
           "rgb(167, 119, 12)"
          ],
          [
           0.09090909090909091,
           "rgb(197, 96, 51)"
          ],
          [
           0.18181818181818182,
           "rgb(217, 67, 96)"
          ],
          [
           0.2727272727272727,
           "rgb(221, 38, 163)"
          ],
          [
           0.36363636363636365,
           "rgb(196, 59, 224)"
          ],
          [
           0.45454545454545453,
           "rgb(153, 97, 244)"
          ],
          [
           0.5454545454545454,
           "rgb(95, 127, 228)"
          ],
          [
           0.6363636363636364,
           "rgb(40, 144, 183)"
          ],
          [
           0.7272727272727273,
           "rgb(15, 151, 136)"
          ],
          [
           0.8181818181818182,
           "rgb(39, 153, 79)"
          ],
          [
           0.9090909090909091,
           "rgb(119, 141, 17)"
          ],
          [
           1,
           "rgb(167, 119, 12)"
          ]
         ]
        },
        "height": 800,
        "legend": {
         "itemsizing": "constant",
         "tracegroupgap": 0
        },
        "margin": {
         "t": 60
        },
        "scene": {
         "domain": {
          "x": [
           0,
           1
          ],
          "y": [
           0,
           1
          ]
         },
         "xaxis": {
          "title": {
           "text": "0"
          }
         },
         "yaxis": {
          "title": {
           "text": "1"
          }
         },
         "zaxis": {
          "title": {
           "text": "2"
          }
         }
        },
        "template": {
         "data": {
          "bar": [
           {
            "error_x": {
             "color": "#2a3f5f"
            },
            "error_y": {
             "color": "#2a3f5f"
            },
            "marker": {
             "line": {
              "color": "#E5ECF6",
              "width": 0.5
             },
             "pattern": {
              "fillmode": "overlay",
              "size": 10,
              "solidity": 0.2
             }
            },
            "type": "bar"
           }
          ],
          "barpolar": [
           {
            "marker": {
             "line": {
              "color": "#E5ECF6",
              "width": 0.5
             },
             "pattern": {
              "fillmode": "overlay",
              "size": 10,
              "solidity": 0.2
             }
            },
            "type": "barpolar"
           }
          ],
          "carpet": [
           {
            "aaxis": {
             "endlinecolor": "#2a3f5f",
             "gridcolor": "white",
             "linecolor": "white",
             "minorgridcolor": "white",
             "startlinecolor": "#2a3f5f"
            },
            "baxis": {
             "endlinecolor": "#2a3f5f",
             "gridcolor": "white",
             "linecolor": "white",
             "minorgridcolor": "white",
             "startlinecolor": "#2a3f5f"
            },
            "type": "carpet"
           }
          ],
          "choropleth": [
           {
            "colorbar": {
             "outlinewidth": 0,
             "ticks": ""
            },
            "type": "choropleth"
           }
          ],
          "contour": [
           {
            "colorbar": {
             "outlinewidth": 0,
             "ticks": ""
            },
            "colorscale": [
             [
              0,
              "#0d0887"
             ],
             [
              0.1111111111111111,
              "#46039f"
             ],
             [
              0.2222222222222222,
              "#7201a8"
             ],
             [
              0.3333333333333333,
              "#9c179e"
             ],
             [
              0.4444444444444444,
              "#bd3786"
             ],
             [
              0.5555555555555556,
              "#d8576b"
             ],
             [
              0.6666666666666666,
              "#ed7953"
             ],
             [
              0.7777777777777778,
              "#fb9f3a"
             ],
             [
              0.8888888888888888,
              "#fdca26"
             ],
             [
              1,
              "#f0f921"
             ]
            ],
            "type": "contour"
           }
          ],
          "contourcarpet": [
           {
            "colorbar": {
             "outlinewidth": 0,
             "ticks": ""
            },
            "type": "contourcarpet"
           }
          ],
          "heatmap": [
           {
            "colorbar": {
             "outlinewidth": 0,
             "ticks": ""
            },
            "colorscale": [
             [
              0,
              "#0d0887"
             ],
             [
              0.1111111111111111,
              "#46039f"
             ],
             [
              0.2222222222222222,
              "#7201a8"
             ],
             [
              0.3333333333333333,
              "#9c179e"
             ],
             [
              0.4444444444444444,
              "#bd3786"
             ],
             [
              0.5555555555555556,
              "#d8576b"
             ],
             [
              0.6666666666666666,
              "#ed7953"
             ],
             [
              0.7777777777777778,
              "#fb9f3a"
             ],
             [
              0.8888888888888888,
              "#fdca26"
             ],
             [
              1,
              "#f0f921"
             ]
            ],
            "type": "heatmap"
           }
          ],
          "heatmapgl": [
           {
            "colorbar": {
             "outlinewidth": 0,
             "ticks": ""
            },
            "colorscale": [
             [
              0,
              "#0d0887"
             ],
             [
              0.1111111111111111,
              "#46039f"
             ],
             [
              0.2222222222222222,
              "#7201a8"
             ],
             [
              0.3333333333333333,
              "#9c179e"
             ],
             [
              0.4444444444444444,
              "#bd3786"
             ],
             [
              0.5555555555555556,
              "#d8576b"
             ],
             [
              0.6666666666666666,
              "#ed7953"
             ],
             [
              0.7777777777777778,
              "#fb9f3a"
             ],
             [
              0.8888888888888888,
              "#fdca26"
             ],
             [
              1,
              "#f0f921"
             ]
            ],
            "type": "heatmapgl"
           }
          ],
          "histogram": [
           {
            "marker": {
             "pattern": {
              "fillmode": "overlay",
              "size": 10,
              "solidity": 0.2
             }
            },
            "type": "histogram"
           }
          ],
          "histogram2d": [
           {
            "colorbar": {
             "outlinewidth": 0,
             "ticks": ""
            },
            "colorscale": [
             [
              0,
              "#0d0887"
             ],
             [
              0.1111111111111111,
              "#46039f"
             ],
             [
              0.2222222222222222,
              "#7201a8"
             ],
             [
              0.3333333333333333,
              "#9c179e"
             ],
             [
              0.4444444444444444,
              "#bd3786"
             ],
             [
              0.5555555555555556,
              "#d8576b"
             ],
             [
              0.6666666666666666,
              "#ed7953"
             ],
             [
              0.7777777777777778,
              "#fb9f3a"
             ],
             [
              0.8888888888888888,
              "#fdca26"
             ],
             [
              1,
              "#f0f921"
             ]
            ],
            "type": "histogram2d"
           }
          ],
          "histogram2dcontour": [
           {
            "colorbar": {
             "outlinewidth": 0,
             "ticks": ""
            },
            "colorscale": [
             [
              0,
              "#0d0887"
             ],
             [
              0.1111111111111111,
              "#46039f"
             ],
             [
              0.2222222222222222,
              "#7201a8"
             ],
             [
              0.3333333333333333,
              "#9c179e"
             ],
             [
              0.4444444444444444,
              "#bd3786"
             ],
             [
              0.5555555555555556,
              "#d8576b"
             ],
             [
              0.6666666666666666,
              "#ed7953"
             ],
             [
              0.7777777777777778,
              "#fb9f3a"
             ],
             [
              0.8888888888888888,
              "#fdca26"
             ],
             [
              1,
              "#f0f921"
             ]
            ],
            "type": "histogram2dcontour"
           }
          ],
          "mesh3d": [
           {
            "colorbar": {
             "outlinewidth": 0,
             "ticks": ""
            },
            "type": "mesh3d"
           }
          ],
          "parcoords": [
           {
            "line": {
             "colorbar": {
              "outlinewidth": 0,
              "ticks": ""
             }
            },
            "type": "parcoords"
           }
          ],
          "pie": [
           {
            "automargin": true,
            "type": "pie"
           }
          ],
          "scatter": [
           {
            "fillpattern": {
             "fillmode": "overlay",
             "size": 10,
             "solidity": 0.2
            },
            "type": "scatter"
           }
          ],
          "scatter3d": [
           {
            "line": {
             "colorbar": {
              "outlinewidth": 0,
              "ticks": ""
             }
            },
            "marker": {
             "colorbar": {
              "outlinewidth": 0,
              "ticks": ""
             }
            },
            "type": "scatter3d"
           }
          ],
          "scattercarpet": [
           {
            "marker": {
             "colorbar": {
              "outlinewidth": 0,
              "ticks": ""
             }
            },
            "type": "scattercarpet"
           }
          ],
          "scattergeo": [
           {
            "marker": {
             "colorbar": {
              "outlinewidth": 0,
              "ticks": ""
             }
            },
            "type": "scattergeo"
           }
          ],
          "scattergl": [
           {
            "marker": {
             "colorbar": {
              "outlinewidth": 0,
              "ticks": ""
             }
            },
            "type": "scattergl"
           }
          ],
          "scattermapbox": [
           {
            "marker": {
             "colorbar": {
              "outlinewidth": 0,
              "ticks": ""
             }
            },
            "type": "scattermapbox"
           }
          ],
          "scatterpolar": [
           {
            "marker": {
             "colorbar": {
              "outlinewidth": 0,
              "ticks": ""
             }
            },
            "type": "scatterpolar"
           }
          ],
          "scatterpolargl": [
           {
            "marker": {
             "colorbar": {
              "outlinewidth": 0,
              "ticks": ""
             }
            },
            "type": "scatterpolargl"
           }
          ],
          "scatterternary": [
           {
            "marker": {
             "colorbar": {
              "outlinewidth": 0,
              "ticks": ""
             }
            },
            "type": "scatterternary"
           }
          ],
          "surface": [
           {
            "colorbar": {
             "outlinewidth": 0,
             "ticks": ""
            },
            "colorscale": [
             [
              0,
              "#0d0887"
             ],
             [
              0.1111111111111111,
              "#46039f"
             ],
             [
              0.2222222222222222,
              "#7201a8"
             ],
             [
              0.3333333333333333,
              "#9c179e"
             ],
             [
              0.4444444444444444,
              "#bd3786"
             ],
             [
              0.5555555555555556,
              "#d8576b"
             ],
             [
              0.6666666666666666,
              "#ed7953"
             ],
             [
              0.7777777777777778,
              "#fb9f3a"
             ],
             [
              0.8888888888888888,
              "#fdca26"
             ],
             [
              1,
              "#f0f921"
             ]
            ],
            "type": "surface"
           }
          ],
          "table": [
           {
            "cells": {
             "fill": {
              "color": "#EBF0F8"
             },
             "line": {
              "color": "white"
             }
            },
            "header": {
             "fill": {
              "color": "#C8D4E3"
             },
             "line": {
              "color": "white"
             }
            },
            "type": "table"
           }
          ]
         },
         "layout": {
          "annotationdefaults": {
           "arrowcolor": "#2a3f5f",
           "arrowhead": 0,
           "arrowwidth": 1
          },
          "autotypenumbers": "strict",
          "coloraxis": {
           "colorbar": {
            "outlinewidth": 0,
            "ticks": ""
           }
          },
          "colorscale": {
           "diverging": [
            [
             0,
             "#8e0152"
            ],
            [
             0.1,
             "#c51b7d"
            ],
            [
             0.2,
             "#de77ae"
            ],
            [
             0.3,
             "#f1b6da"
            ],
            [
             0.4,
             "#fde0ef"
            ],
            [
             0.5,
             "#f7f7f7"
            ],
            [
             0.6,
             "#e6f5d0"
            ],
            [
             0.7,
             "#b8e186"
            ],
            [
             0.8,
             "#7fbc41"
            ],
            [
             0.9,
             "#4d9221"
            ],
            [
             1,
             "#276419"
            ]
           ],
           "sequential": [
            [
             0,
             "#0d0887"
            ],
            [
             0.1111111111111111,
             "#46039f"
            ],
            [
             0.2222222222222222,
             "#7201a8"
            ],
            [
             0.3333333333333333,
             "#9c179e"
            ],
            [
             0.4444444444444444,
             "#bd3786"
            ],
            [
             0.5555555555555556,
             "#d8576b"
            ],
            [
             0.6666666666666666,
             "#ed7953"
            ],
            [
             0.7777777777777778,
             "#fb9f3a"
            ],
            [
             0.8888888888888888,
             "#fdca26"
            ],
            [
             1,
             "#f0f921"
            ]
           ],
           "sequentialminus": [
            [
             0,
             "#0d0887"
            ],
            [
             0.1111111111111111,
             "#46039f"
            ],
            [
             0.2222222222222222,
             "#7201a8"
            ],
            [
             0.3333333333333333,
             "#9c179e"
            ],
            [
             0.4444444444444444,
             "#bd3786"
            ],
            [
             0.5555555555555556,
             "#d8576b"
            ],
            [
             0.6666666666666666,
             "#ed7953"
            ],
            [
             0.7777777777777778,
             "#fb9f3a"
            ],
            [
             0.8888888888888888,
             "#fdca26"
            ],
            [
             1,
             "#f0f921"
            ]
           ]
          },
          "colorway": [
           "#636efa",
           "#EF553B",
           "#00cc96",
           "#ab63fa",
           "#FFA15A",
           "#19d3f3",
           "#FF6692",
           "#B6E880",
           "#FF97FF",
           "#FECB52"
          ],
          "font": {
           "color": "#2a3f5f"
          },
          "geo": {
           "bgcolor": "white",
           "lakecolor": "white",
           "landcolor": "#E5ECF6",
           "showlakes": true,
           "showland": true,
           "subunitcolor": "white"
          },
          "hoverlabel": {
           "align": "left"
          },
          "hovermode": "closest",
          "mapbox": {
           "style": "light"
          },
          "paper_bgcolor": "white",
          "plot_bgcolor": "#E5ECF6",
          "polar": {
           "angularaxis": {
            "gridcolor": "white",
            "linecolor": "white",
            "ticks": ""
           },
           "bgcolor": "#E5ECF6",
           "radialaxis": {
            "gridcolor": "white",
            "linecolor": "white",
            "ticks": ""
           }
          },
          "scene": {
           "xaxis": {
            "backgroundcolor": "#E5ECF6",
            "gridcolor": "white",
            "gridwidth": 2,
            "linecolor": "white",
            "showbackground": true,
            "ticks": "",
            "zerolinecolor": "white"
           },
           "yaxis": {
            "backgroundcolor": "#E5ECF6",
            "gridcolor": "white",
            "gridwidth": 2,
            "linecolor": "white",
            "showbackground": true,
            "ticks": "",
            "zerolinecolor": "white"
           },
           "zaxis": {
            "backgroundcolor": "#E5ECF6",
            "gridcolor": "white",
            "gridwidth": 2,
            "linecolor": "white",
            "showbackground": true,
            "ticks": "",
            "zerolinecolor": "white"
           }
          },
          "shapedefaults": {
           "line": {
            "color": "#2a3f5f"
           }
          },
          "ternary": {
           "aaxis": {
            "gridcolor": "white",
            "linecolor": "white",
            "ticks": ""
           },
           "baxis": {
            "gridcolor": "white",
            "linecolor": "white",
            "ticks": ""
           },
           "bgcolor": "#E5ECF6",
           "caxis": {
            "gridcolor": "white",
            "linecolor": "white",
            "ticks": ""
           }
          },
          "title": {
           "x": 0.05
          },
          "xaxis": {
           "automargin": true,
           "gridcolor": "white",
           "linecolor": "white",
           "ticks": "",
           "title": {
            "standoff": 15
           },
           "zerolinecolor": "white",
           "zerolinewidth": 2
          },
          "yaxis": {
           "automargin": true,
           "gridcolor": "white",
           "linecolor": "white",
           "ticks": "",
           "title": {
            "standoff": 15
           },
           "zerolinecolor": "white",
           "zerolinewidth": 2
          }
         }
        },
        "width": 800
       }
      }
     },
     "metadata": {},
     "output_type": "display_data"
    },
    {
     "data": {
      "text/html": [
       "<div>\n",
       "<style scoped>\n",
       "    .dataframe tbody tr th:only-of-type {\n",
       "        vertical-align: middle;\n",
       "    }\n",
       "\n",
       "    .dataframe tbody tr th {\n",
       "        vertical-align: top;\n",
       "    }\n",
       "\n",
       "    .dataframe thead th {\n",
       "        text-align: right;\n",
       "    }\n",
       "</style>\n",
       "<table border=\"1\" class=\"dataframe\">\n",
       "  <thead>\n",
       "    <tr style=\"text-align: right;\">\n",
       "      <th></th>\n",
       "      <th>index</th>\n",
       "      <th>id</th>\n",
       "      <th>title</th>\n",
       "      <th>author</th>\n",
       "      <th>authoryearofbirth</th>\n",
       "      <th>authoryearofdeath</th>\n",
       "      <th>language</th>\n",
       "      <th>downloads</th>\n",
       "      <th>subjects</th>\n",
       "      <th>type</th>\n",
       "      <th>...</th>\n",
       "      <th>1</th>\n",
       "      <th>2</th>\n",
       "      <th>3</th>\n",
       "      <th>4</th>\n",
       "      <th>5</th>\n",
       "      <th>6</th>\n",
       "      <th>7</th>\n",
       "      <th>8</th>\n",
       "      <th>9</th>\n",
       "      <th>size</th>\n",
       "    </tr>\n",
       "  </thead>\n",
       "  <tbody>\n",
       "    <tr>\n",
       "      <th>0</th>\n",
       "      <td>9999</td>\n",
       "      <td>/Users/andrewmoore/work/llc/polysemia/polysemi...</td>\n",
       "      <td>The Magna Carta</td>\n",
       "      <td>Anonymous,</td>\n",
       "      <td>NaN</td>\n",
       "      <td>NaN</td>\n",
       "      <td>['en']</td>\n",
       "      <td>188.0</td>\n",
       "      <td>{'Magna Carta', 'Constitutional history -- Eng...</td>\n",
       "      <td>Text</td>\n",
       "      <td>...</td>\n",
       "      <td>0.881886</td>\n",
       "      <td>-0.528351</td>\n",
       "      <td>-1.895368</td>\n",
       "      <td>0.613471</td>\n",
       "      <td>-1.317061</td>\n",
       "      <td>0.666994</td>\n",
       "      <td>-0.690474</td>\n",
       "      <td>1.178499</td>\n",
       "      <td>0.852587</td>\n",
       "      <td>0.1</td>\n",
       "    </tr>\n",
       "    <tr>\n",
       "      <th>1</th>\n",
       "      <td>9999</td>\n",
       "      <td>/Users/andrewmoore/work/llc/polysemia/polysemi...</td>\n",
       "      <td>The Magna Carta</td>\n",
       "      <td>Anonymous,</td>\n",
       "      <td>NaN</td>\n",
       "      <td>NaN</td>\n",
       "      <td>['en']</td>\n",
       "      <td>188.0</td>\n",
       "      <td>{'Magna Carta', 'Constitutional history -- Eng...</td>\n",
       "      <td>Text</td>\n",
       "      <td>...</td>\n",
       "      <td>-1.911690</td>\n",
       "      <td>0.076905</td>\n",
       "      <td>-0.488904</td>\n",
       "      <td>0.314233</td>\n",
       "      <td>-0.213403</td>\n",
       "      <td>3.445475</td>\n",
       "      <td>1.326531</td>\n",
       "      <td>-1.098274</td>\n",
       "      <td>-0.549277</td>\n",
       "      <td>0.1</td>\n",
       "    </tr>\n",
       "    <tr>\n",
       "      <th>2</th>\n",
       "      <td>9999</td>\n",
       "      <td>/Users/andrewmoore/work/llc/polysemia/polysemi...</td>\n",
       "      <td>The Magna Carta</td>\n",
       "      <td>Anonymous,</td>\n",
       "      <td>NaN</td>\n",
       "      <td>NaN</td>\n",
       "      <td>['en']</td>\n",
       "      <td>188.0</td>\n",
       "      <td>{'Magna Carta', 'Constitutional history -- Eng...</td>\n",
       "      <td>Text</td>\n",
       "      <td>...</td>\n",
       "      <td>0.617966</td>\n",
       "      <td>-4.746714</td>\n",
       "      <td>-0.502597</td>\n",
       "      <td>2.461632</td>\n",
       "      <td>-2.433477</td>\n",
       "      <td>-1.375246</td>\n",
       "      <td>-0.716915</td>\n",
       "      <td>-1.882135</td>\n",
       "      <td>2.516887</td>\n",
       "      <td>0.1</td>\n",
       "    </tr>\n",
       "    <tr>\n",
       "      <th>3</th>\n",
       "      <td>9999</td>\n",
       "      <td>/Users/andrewmoore/work/llc/polysemia/polysemi...</td>\n",
       "      <td>The Magna Carta</td>\n",
       "      <td>Anonymous,</td>\n",
       "      <td>NaN</td>\n",
       "      <td>NaN</td>\n",
       "      <td>['en']</td>\n",
       "      <td>188.0</td>\n",
       "      <td>{'Magna Carta', 'Constitutional history -- Eng...</td>\n",
       "      <td>Text</td>\n",
       "      <td>...</td>\n",
       "      <td>0.334003</td>\n",
       "      <td>1.001794</td>\n",
       "      <td>-1.550493</td>\n",
       "      <td>0.328001</td>\n",
       "      <td>-1.194864</td>\n",
       "      <td>2.698033</td>\n",
       "      <td>-2.074622</td>\n",
       "      <td>-0.282820</td>\n",
       "      <td>0.619872</td>\n",
       "      <td>0.1</td>\n",
       "    </tr>\n",
       "    <tr>\n",
       "      <th>4</th>\n",
       "      <td>9999</td>\n",
       "      <td>/Users/andrewmoore/work/llc/polysemia/polysemi...</td>\n",
       "      <td>The Magna Carta</td>\n",
       "      <td>Anonymous,</td>\n",
       "      <td>NaN</td>\n",
       "      <td>NaN</td>\n",
       "      <td>['en']</td>\n",
       "      <td>188.0</td>\n",
       "      <td>{'Magna Carta', 'Constitutional history -- Eng...</td>\n",
       "      <td>Text</td>\n",
       "      <td>...</td>\n",
       "      <td>1.582301</td>\n",
       "      <td>-4.303625</td>\n",
       "      <td>1.338778</td>\n",
       "      <td>1.234804</td>\n",
       "      <td>-1.112276</td>\n",
       "      <td>-3.238378</td>\n",
       "      <td>-1.080543</td>\n",
       "      <td>-1.398403</td>\n",
       "      <td>1.262514</td>\n",
       "      <td>0.1</td>\n",
       "    </tr>\n",
       "    <tr>\n",
       "      <th>7</th>\n",
       "      <td>9999</td>\n",
       "      <td>/Users/andrewmoore/work/llc/polysemia/polysemi...</td>\n",
       "      <td>The Magna Carta</td>\n",
       "      <td>Anonymous,</td>\n",
       "      <td>NaN</td>\n",
       "      <td>NaN</td>\n",
       "      <td>['en']</td>\n",
       "      <td>188.0</td>\n",
       "      <td>{'Magna Carta', 'Constitutional history -- Eng...</td>\n",
       "      <td>Text</td>\n",
       "      <td>...</td>\n",
       "      <td>-2.197036</td>\n",
       "      <td>4.382241</td>\n",
       "      <td>-2.018462</td>\n",
       "      <td>-2.064909</td>\n",
       "      <td>-1.512171</td>\n",
       "      <td>0.225321</td>\n",
       "      <td>-1.777179</td>\n",
       "      <td>0.159914</td>\n",
       "      <td>-0.383437</td>\n",
       "      <td>0.1</td>\n",
       "    </tr>\n",
       "    <tr>\n",
       "      <th>8</th>\n",
       "      <td>9999</td>\n",
       "      <td>/Users/andrewmoore/work/llc/polysemia/polysemi...</td>\n",
       "      <td>The Magna Carta</td>\n",
       "      <td>Anonymous,</td>\n",
       "      <td>NaN</td>\n",
       "      <td>NaN</td>\n",
       "      <td>['en']</td>\n",
       "      <td>188.0</td>\n",
       "      <td>{'Magna Carta', 'Constitutional history -- Eng...</td>\n",
       "      <td>Text</td>\n",
       "      <td>...</td>\n",
       "      <td>0.158496</td>\n",
       "      <td>-2.281681</td>\n",
       "      <td>-0.424756</td>\n",
       "      <td>1.609536</td>\n",
       "      <td>-1.421711</td>\n",
       "      <td>3.295506</td>\n",
       "      <td>-1.250035</td>\n",
       "      <td>-0.302559</td>\n",
       "      <td>0.964264</td>\n",
       "      <td>0.1</td>\n",
       "    </tr>\n",
       "    <tr>\n",
       "      <th>9</th>\n",
       "      <td>9999</td>\n",
       "      <td>/Users/andrewmoore/work/llc/polysemia/polysemi...</td>\n",
       "      <td>The Magna Carta</td>\n",
       "      <td>Anonymous,</td>\n",
       "      <td>NaN</td>\n",
       "      <td>NaN</td>\n",
       "      <td>['en']</td>\n",
       "      <td>188.0</td>\n",
       "      <td>{'Magna Carta', 'Constitutional history -- Eng...</td>\n",
       "      <td>Text</td>\n",
       "      <td>...</td>\n",
       "      <td>-1.145872</td>\n",
       "      <td>3.972378</td>\n",
       "      <td>-3.045503</td>\n",
       "      <td>-1.978160</td>\n",
       "      <td>0.412484</td>\n",
       "      <td>1.129781</td>\n",
       "      <td>-1.224859</td>\n",
       "      <td>-1.056059</td>\n",
       "      <td>1.642605</td>\n",
       "      <td>0.1</td>\n",
       "    </tr>\n",
       "    <tr>\n",
       "      <th>10</th>\n",
       "      <td>9999</td>\n",
       "      <td>/Users/andrewmoore/work/llc/polysemia/polysemi...</td>\n",
       "      <td>The Magna Carta</td>\n",
       "      <td>Anonymous,</td>\n",
       "      <td>NaN</td>\n",
       "      <td>NaN</td>\n",
       "      <td>['en']</td>\n",
       "      <td>188.0</td>\n",
       "      <td>{'Magna Carta', 'Constitutional history -- Eng...</td>\n",
       "      <td>Text</td>\n",
       "      <td>...</td>\n",
       "      <td>1.897795</td>\n",
       "      <td>-3.856409</td>\n",
       "      <td>1.358099</td>\n",
       "      <td>0.753512</td>\n",
       "      <td>-1.040547</td>\n",
       "      <td>-3.104825</td>\n",
       "      <td>-1.069534</td>\n",
       "      <td>-1.416816</td>\n",
       "      <td>1.282771</td>\n",
       "      <td>0.1</td>\n",
       "    </tr>\n",
       "    <tr>\n",
       "      <th>13</th>\n",
       "      <td>9999</td>\n",
       "      <td>/Users/andrewmoore/work/llc/polysemia/polysemi...</td>\n",
       "      <td>The Magna Carta</td>\n",
       "      <td>Anonymous,</td>\n",
       "      <td>NaN</td>\n",
       "      <td>NaN</td>\n",
       "      <td>['en']</td>\n",
       "      <td>188.0</td>\n",
       "      <td>{'Magna Carta', 'Constitutional history -- Eng...</td>\n",
       "      <td>Text</td>\n",
       "      <td>...</td>\n",
       "      <td>-2.576020</td>\n",
       "      <td>4.269138</td>\n",
       "      <td>-1.877802</td>\n",
       "      <td>-2.189383</td>\n",
       "      <td>-1.072178</td>\n",
       "      <td>0.386360</td>\n",
       "      <td>-1.842466</td>\n",
       "      <td>0.131196</td>\n",
       "      <td>-0.320002</td>\n",
       "      <td>0.1</td>\n",
       "    </tr>\n",
       "    <tr>\n",
       "      <th>14</th>\n",
       "      <td>9999</td>\n",
       "      <td>/Users/andrewmoore/work/llc/polysemia/polysemi...</td>\n",
       "      <td>The Magna Carta</td>\n",
       "      <td>Anonymous,</td>\n",
       "      <td>NaN</td>\n",
       "      <td>NaN</td>\n",
       "      <td>['en']</td>\n",
       "      <td>188.0</td>\n",
       "      <td>{'Magna Carta', 'Constitutional history -- Eng...</td>\n",
       "      <td>Text</td>\n",
       "      <td>...</td>\n",
       "      <td>0.284728</td>\n",
       "      <td>-2.484226</td>\n",
       "      <td>-0.824795</td>\n",
       "      <td>1.536216</td>\n",
       "      <td>-0.859563</td>\n",
       "      <td>3.963741</td>\n",
       "      <td>-0.929690</td>\n",
       "      <td>-0.102476</td>\n",
       "      <td>0.891452</td>\n",
       "      <td>0.1</td>\n",
       "    </tr>\n",
       "    <tr>\n",
       "      <th>15</th>\n",
       "      <td>9999</td>\n",
       "      <td>/Users/andrewmoore/work/llc/polysemia/polysemi...</td>\n",
       "      <td>The Magna Carta</td>\n",
       "      <td>Anonymous,</td>\n",
       "      <td>NaN</td>\n",
       "      <td>NaN</td>\n",
       "      <td>['en']</td>\n",
       "      <td>188.0</td>\n",
       "      <td>{'Magna Carta', 'Constitutional history -- Eng...</td>\n",
       "      <td>Text</td>\n",
       "      <td>...</td>\n",
       "      <td>-0.854454</td>\n",
       "      <td>5.059782</td>\n",
       "      <td>-2.747875</td>\n",
       "      <td>-2.766332</td>\n",
       "      <td>0.535797</td>\n",
       "      <td>1.061759</td>\n",
       "      <td>-1.495788</td>\n",
       "      <td>-0.649908</td>\n",
       "      <td>0.797906</td>\n",
       "      <td>0.1</td>\n",
       "    </tr>\n",
       "    <tr>\n",
       "      <th>21</th>\n",
       "      <td>10001</td>\n",
       "      <td>/Users/andrewmoore/work/llc/polysemia/polysemi...</td>\n",
       "      <td>The House on the Borderland</td>\n",
       "      <td>William Hope Hodgson,</td>\n",
       "      <td>1877.0</td>\n",
       "      <td>1918.0</td>\n",
       "      <td>['en']</td>\n",
       "      <td>593.0</td>\n",
       "      <td>{'Science fiction'}</td>\n",
       "      <td>Text</td>\n",
       "      <td>...</td>\n",
       "      <td>-3.182662</td>\n",
       "      <td>3.990662</td>\n",
       "      <td>-0.410465</td>\n",
       "      <td>-0.964910</td>\n",
       "      <td>1.853510</td>\n",
       "      <td>-1.288878</td>\n",
       "      <td>1.171207</td>\n",
       "      <td>-0.578533</td>\n",
       "      <td>1.068842</td>\n",
       "      <td>0.1</td>\n",
       "    </tr>\n",
       "    <tr>\n",
       "      <th>22</th>\n",
       "      <td>10001</td>\n",
       "      <td>/Users/andrewmoore/work/llc/polysemia/polysemi...</td>\n",
       "      <td>The House on the Borderland</td>\n",
       "      <td>William Hope Hodgson,</td>\n",
       "      <td>1877.0</td>\n",
       "      <td>1918.0</td>\n",
       "      <td>['en']</td>\n",
       "      <td>593.0</td>\n",
       "      <td>{'Science fiction'}</td>\n",
       "      <td>Text</td>\n",
       "      <td>...</td>\n",
       "      <td>-2.389895</td>\n",
       "      <td>2.568982</td>\n",
       "      <td>0.501959</td>\n",
       "      <td>-0.946002</td>\n",
       "      <td>-0.548117</td>\n",
       "      <td>-1.412351</td>\n",
       "      <td>-0.232065</td>\n",
       "      <td>1.356159</td>\n",
       "      <td>1.380826</td>\n",
       "      <td>0.1</td>\n",
       "    </tr>\n",
       "    <tr>\n",
       "      <th>25</th>\n",
       "      <td>10001</td>\n",
       "      <td>/Users/andrewmoore/work/llc/polysemia/polysemi...</td>\n",
       "      <td>The House on the Borderland</td>\n",
       "      <td>William Hope Hodgson,</td>\n",
       "      <td>1877.0</td>\n",
       "      <td>1918.0</td>\n",
       "      <td>['en']</td>\n",
       "      <td>593.0</td>\n",
       "      <td>{'Science fiction'}</td>\n",
       "      <td>Text</td>\n",
       "      <td>...</td>\n",
       "      <td>4.250934</td>\n",
       "      <td>-1.757390</td>\n",
       "      <td>-4.382349</td>\n",
       "      <td>0.042665</td>\n",
       "      <td>1.869009</td>\n",
       "      <td>0.675841</td>\n",
       "      <td>2.090021</td>\n",
       "      <td>2.097722</td>\n",
       "      <td>-0.252930</td>\n",
       "      <td>0.1</td>\n",
       "    </tr>\n",
       "    <tr>\n",
       "      <th>26</th>\n",
       "      <td>10001</td>\n",
       "      <td>/Users/andrewmoore/work/llc/polysemia/polysemi...</td>\n",
       "      <td>The House on the Borderland</td>\n",
       "      <td>William Hope Hodgson,</td>\n",
       "      <td>1877.0</td>\n",
       "      <td>1918.0</td>\n",
       "      <td>['en']</td>\n",
       "      <td>593.0</td>\n",
       "      <td>{'Science fiction'}</td>\n",
       "      <td>Text</td>\n",
       "      <td>...</td>\n",
       "      <td>-5.347353</td>\n",
       "      <td>1.172527</td>\n",
       "      <td>-3.012688</td>\n",
       "      <td>1.258313</td>\n",
       "      <td>1.562330</td>\n",
       "      <td>-1.568665</td>\n",
       "      <td>0.632384</td>\n",
       "      <td>1.855346</td>\n",
       "      <td>1.407392</td>\n",
       "      <td>0.1</td>\n",
       "    </tr>\n",
       "    <tr>\n",
       "      <th>27</th>\n",
       "      <td>10001</td>\n",
       "      <td>/Users/andrewmoore/work/llc/polysemia/polysemi...</td>\n",
       "      <td>The House on the Borderland</td>\n",
       "      <td>William Hope Hodgson,</td>\n",
       "      <td>1877.0</td>\n",
       "      <td>1918.0</td>\n",
       "      <td>['en']</td>\n",
       "      <td>593.0</td>\n",
       "      <td>{'Science fiction'}</td>\n",
       "      <td>Text</td>\n",
       "      <td>...</td>\n",
       "      <td>-4.775229</td>\n",
       "      <td>2.362034</td>\n",
       "      <td>0.577981</td>\n",
       "      <td>-0.271115</td>\n",
       "      <td>1.973270</td>\n",
       "      <td>-0.715672</td>\n",
       "      <td>-0.492747</td>\n",
       "      <td>1.874075</td>\n",
       "      <td>1.160904</td>\n",
       "      <td>0.1</td>\n",
       "    </tr>\n",
       "    <tr>\n",
       "      <th>28</th>\n",
       "      <td>10001</td>\n",
       "      <td>/Users/andrewmoore/work/llc/polysemia/polysemi...</td>\n",
       "      <td>The House on the Borderland</td>\n",
       "      <td>William Hope Hodgson,</td>\n",
       "      <td>1877.0</td>\n",
       "      <td>1918.0</td>\n",
       "      <td>['en']</td>\n",
       "      <td>593.0</td>\n",
       "      <td>{'Science fiction'}</td>\n",
       "      <td>Text</td>\n",
       "      <td>...</td>\n",
       "      <td>2.135882</td>\n",
       "      <td>-3.205997</td>\n",
       "      <td>1.869510</td>\n",
       "      <td>-0.476542</td>\n",
       "      <td>4.130949</td>\n",
       "      <td>-0.236990</td>\n",
       "      <td>-0.522073</td>\n",
       "      <td>0.862085</td>\n",
       "      <td>2.575542</td>\n",
       "      <td>0.1</td>\n",
       "    </tr>\n",
       "    <tr>\n",
       "      <th>30</th>\n",
       "      <td>10001</td>\n",
       "      <td>/Users/andrewmoore/work/llc/polysemia/polysemi...</td>\n",
       "      <td>The House on the Borderland</td>\n",
       "      <td>William Hope Hodgson,</td>\n",
       "      <td>1877.0</td>\n",
       "      <td>1918.0</td>\n",
       "      <td>['en']</td>\n",
       "      <td>593.0</td>\n",
       "      <td>{'Science fiction'}</td>\n",
       "      <td>Text</td>\n",
       "      <td>...</td>\n",
       "      <td>0.196184</td>\n",
       "      <td>-3.419916</td>\n",
       "      <td>1.065143</td>\n",
       "      <td>1.274266</td>\n",
       "      <td>2.412234</td>\n",
       "      <td>1.399968</td>\n",
       "      <td>0.415380</td>\n",
       "      <td>2.573652</td>\n",
       "      <td>-0.528307</td>\n",
       "      <td>0.1</td>\n",
       "    </tr>\n",
       "    <tr>\n",
       "      <th>31</th>\n",
       "      <td>10001</td>\n",
       "      <td>/Users/andrewmoore/work/llc/polysemia/polysemi...</td>\n",
       "      <td>The House on the Borderland</td>\n",
       "      <td>William Hope Hodgson,</td>\n",
       "      <td>1877.0</td>\n",
       "      <td>1918.0</td>\n",
       "      <td>['en']</td>\n",
       "      <td>593.0</td>\n",
       "      <td>{'Science fiction'}</td>\n",
       "      <td>Text</td>\n",
       "      <td>...</td>\n",
       "      <td>-2.571031</td>\n",
       "      <td>-0.725992</td>\n",
       "      <td>1.087797</td>\n",
       "      <td>1.315960</td>\n",
       "      <td>1.478726</td>\n",
       "      <td>0.829195</td>\n",
       "      <td>1.686666</td>\n",
       "      <td>-2.180696</td>\n",
       "      <td>-1.337012</td>\n",
       "      <td>0.1</td>\n",
       "    </tr>\n",
       "    <tr>\n",
       "      <th>34</th>\n",
       "      <td>10001</td>\n",
       "      <td>/Users/andrewmoore/work/llc/polysemia/polysemi...</td>\n",
       "      <td>The House on the Borderland</td>\n",
       "      <td>William Hope Hodgson,</td>\n",
       "      <td>1877.0</td>\n",
       "      <td>1918.0</td>\n",
       "      <td>['en']</td>\n",
       "      <td>593.0</td>\n",
       "      <td>{'Science fiction'}</td>\n",
       "      <td>Text</td>\n",
       "      <td>...</td>\n",
       "      <td>0.286987</td>\n",
       "      <td>-2.159174</td>\n",
       "      <td>-3.253199</td>\n",
       "      <td>0.483909</td>\n",
       "      <td>1.715001</td>\n",
       "      <td>-0.627696</td>\n",
       "      <td>0.469398</td>\n",
       "      <td>0.863166</td>\n",
       "      <td>1.041384</td>\n",
       "      <td>0.1</td>\n",
       "    </tr>\n",
       "    <tr>\n",
       "      <th>35</th>\n",
       "      <td>10001</td>\n",
       "      <td>/Users/andrewmoore/work/llc/polysemia/polysemi...</td>\n",
       "      <td>The House on the Borderland</td>\n",
       "      <td>William Hope Hodgson,</td>\n",
       "      <td>1877.0</td>\n",
       "      <td>1918.0</td>\n",
       "      <td>['en']</td>\n",
       "      <td>593.0</td>\n",
       "      <td>{'Science fiction'}</td>\n",
       "      <td>Text</td>\n",
       "      <td>...</td>\n",
       "      <td>-4.001009</td>\n",
       "      <td>-0.213731</td>\n",
       "      <td>0.760523</td>\n",
       "      <td>0.639394</td>\n",
       "      <td>-0.265449</td>\n",
       "      <td>1.661148</td>\n",
       "      <td>0.738969</td>\n",
       "      <td>-2.924111</td>\n",
       "      <td>-2.589478</td>\n",
       "      <td>0.1</td>\n",
       "    </tr>\n",
       "    <tr>\n",
       "      <th>36</th>\n",
       "      <td>10001</td>\n",
       "      <td>/Users/andrewmoore/work/llc/polysemia/polysemi...</td>\n",
       "      <td>The House on the Borderland</td>\n",
       "      <td>William Hope Hodgson,</td>\n",
       "      <td>1877.0</td>\n",
       "      <td>1918.0</td>\n",
       "      <td>['en']</td>\n",
       "      <td>593.0</td>\n",
       "      <td>{'Science fiction'}</td>\n",
       "      <td>Text</td>\n",
       "      <td>...</td>\n",
       "      <td>3.069045</td>\n",
       "      <td>-2.689487</td>\n",
       "      <td>-2.682739</td>\n",
       "      <td>1.272268</td>\n",
       "      <td>2.212829</td>\n",
       "      <td>0.642206</td>\n",
       "      <td>0.085517</td>\n",
       "      <td>2.496469</td>\n",
       "      <td>-1.018695</td>\n",
       "      <td>0.1</td>\n",
       "    </tr>\n",
       "    <tr>\n",
       "      <th>37</th>\n",
       "      <td>10001</td>\n",
       "      <td>/Users/andrewmoore/work/llc/polysemia/polysemi...</td>\n",
       "      <td>The House on the Borderland</td>\n",
       "      <td>William Hope Hodgson,</td>\n",
       "      <td>1877.0</td>\n",
       "      <td>1918.0</td>\n",
       "      <td>['en']</td>\n",
       "      <td>593.0</td>\n",
       "      <td>{'Science fiction'}</td>\n",
       "      <td>Text</td>\n",
       "      <td>...</td>\n",
       "      <td>-2.140834</td>\n",
       "      <td>-1.935607</td>\n",
       "      <td>3.261601</td>\n",
       "      <td>-1.180233</td>\n",
       "      <td>0.981199</td>\n",
       "      <td>-0.145493</td>\n",
       "      <td>-0.513875</td>\n",
       "      <td>-2.582397</td>\n",
       "      <td>-0.958416</td>\n",
       "      <td>0.1</td>\n",
       "    </tr>\n",
       "    <tr>\n",
       "      <th>38</th>\n",
       "      <td>10001</td>\n",
       "      <td>/Users/andrewmoore/work/llc/polysemia/polysemi...</td>\n",
       "      <td>The House on the Borderland</td>\n",
       "      <td>William Hope Hodgson,</td>\n",
       "      <td>1877.0</td>\n",
       "      <td>1918.0</td>\n",
       "      <td>['en']</td>\n",
       "      <td>593.0</td>\n",
       "      <td>{'Science fiction'}</td>\n",
       "      <td>Text</td>\n",
       "      <td>...</td>\n",
       "      <td>-2.831635</td>\n",
       "      <td>2.620609</td>\n",
       "      <td>0.931536</td>\n",
       "      <td>-1.014223</td>\n",
       "      <td>3.268214</td>\n",
       "      <td>-0.374603</td>\n",
       "      <td>-1.311380</td>\n",
       "      <td>-2.014380</td>\n",
       "      <td>-0.710950</td>\n",
       "      <td>0.1</td>\n",
       "    </tr>\n",
       "    <tr>\n",
       "      <th>40</th>\n",
       "      <td>10001</td>\n",
       "      <td>/Users/andrewmoore/work/llc/polysemia/polysemi...</td>\n",
       "      <td>The House on the Borderland</td>\n",
       "      <td>William Hope Hodgson,</td>\n",
       "      <td>1877.0</td>\n",
       "      <td>1918.0</td>\n",
       "      <td>['en']</td>\n",
       "      <td>593.0</td>\n",
       "      <td>{'Science fiction'}</td>\n",
       "      <td>Text</td>\n",
       "      <td>...</td>\n",
       "      <td>-1.207321</td>\n",
       "      <td>3.066068</td>\n",
       "      <td>1.791205</td>\n",
       "      <td>0.266218</td>\n",
       "      <td>4.145644</td>\n",
       "      <td>-1.030488</td>\n",
       "      <td>-1.828797</td>\n",
       "      <td>1.478488</td>\n",
       "      <td>0.680200</td>\n",
       "      <td>0.1</td>\n",
       "    </tr>\n",
       "    <tr>\n",
       "      <th>46</th>\n",
       "      <td>10001</td>\n",
       "      <td>/Users/andrewmoore/work/llc/polysemia/polysemi...</td>\n",
       "      <td>The House on the Borderland</td>\n",
       "      <td>William Hope Hodgson,</td>\n",
       "      <td>1877.0</td>\n",
       "      <td>1918.0</td>\n",
       "      <td>['en']</td>\n",
       "      <td>593.0</td>\n",
       "      <td>{'Science fiction'}</td>\n",
       "      <td>Text</td>\n",
       "      <td>...</td>\n",
       "      <td>-2.920223</td>\n",
       "      <td>3.321069</td>\n",
       "      <td>2.338301</td>\n",
       "      <td>-1.237427</td>\n",
       "      <td>1.588350</td>\n",
       "      <td>0.141763</td>\n",
       "      <td>-0.893479</td>\n",
       "      <td>2.884371</td>\n",
       "      <td>-1.352766</td>\n",
       "      <td>0.1</td>\n",
       "    </tr>\n",
       "    <tr>\n",
       "      <th>47</th>\n",
       "      <td>10001</td>\n",
       "      <td>/Users/andrewmoore/work/llc/polysemia/polysemi...</td>\n",
       "      <td>The House on the Borderland</td>\n",
       "      <td>William Hope Hodgson,</td>\n",
       "      <td>1877.0</td>\n",
       "      <td>1918.0</td>\n",
       "      <td>['en']</td>\n",
       "      <td>593.0</td>\n",
       "      <td>{'Science fiction'}</td>\n",
       "      <td>Text</td>\n",
       "      <td>...</td>\n",
       "      <td>-4.209077</td>\n",
       "      <td>0.787466</td>\n",
       "      <td>1.085279</td>\n",
       "      <td>0.618015</td>\n",
       "      <td>2.059962</td>\n",
       "      <td>-0.692174</td>\n",
       "      <td>-3.332707</td>\n",
       "      <td>1.360952</td>\n",
       "      <td>-1.769423</td>\n",
       "      <td>0.1</td>\n",
       "    </tr>\n",
       "    <tr>\n",
       "      <th>50</th>\n",
       "      <td>10001</td>\n",
       "      <td>/Users/andrewmoore/work/llc/polysemia/polysemi...</td>\n",
       "      <td>The House on the Borderland</td>\n",
       "      <td>William Hope Hodgson,</td>\n",
       "      <td>1877.0</td>\n",
       "      <td>1918.0</td>\n",
       "      <td>['en']</td>\n",
       "      <td>593.0</td>\n",
       "      <td>{'Science fiction'}</td>\n",
       "      <td>Text</td>\n",
       "      <td>...</td>\n",
       "      <td>-1.494726</td>\n",
       "      <td>0.451475</td>\n",
       "      <td>-1.306677</td>\n",
       "      <td>-0.206224</td>\n",
       "      <td>0.314116</td>\n",
       "      <td>1.236269</td>\n",
       "      <td>0.629676</td>\n",
       "      <td>-0.734703</td>\n",
       "      <td>-1.644490</td>\n",
       "      <td>0.1</td>\n",
       "    </tr>\n",
       "    <tr>\n",
       "      <th>51</th>\n",
       "      <td>10001</td>\n",
       "      <td>/Users/andrewmoore/work/llc/polysemia/polysemi...</td>\n",
       "      <td>The House on the Borderland</td>\n",
       "      <td>William Hope Hodgson,</td>\n",
       "      <td>1877.0</td>\n",
       "      <td>1918.0</td>\n",
       "      <td>['en']</td>\n",
       "      <td>593.0</td>\n",
       "      <td>{'Science fiction'}</td>\n",
       "      <td>Text</td>\n",
       "      <td>...</td>\n",
       "      <td>0.862535</td>\n",
       "      <td>-2.026194</td>\n",
       "      <td>-2.471431</td>\n",
       "      <td>0.035473</td>\n",
       "      <td>0.382021</td>\n",
       "      <td>-2.532116</td>\n",
       "      <td>-0.207853</td>\n",
       "      <td>0.545320</td>\n",
       "      <td>-2.593861</td>\n",
       "      <td>0.1</td>\n",
       "    </tr>\n",
       "    <tr>\n",
       "      <th>54</th>\n",
       "      <td>10001</td>\n",
       "      <td>/Users/andrewmoore/work/llc/polysemia/polysemi...</td>\n",
       "      <td>The House on the Borderland</td>\n",
       "      <td>William Hope Hodgson,</td>\n",
       "      <td>1877.0</td>\n",
       "      <td>1918.0</td>\n",
       "      <td>['en']</td>\n",
       "      <td>593.0</td>\n",
       "      <td>{'Science fiction'}</td>\n",
       "      <td>Text</td>\n",
       "      <td>...</td>\n",
       "      <td>1.235407</td>\n",
       "      <td>-3.317103</td>\n",
       "      <td>1.533554</td>\n",
       "      <td>2.885575</td>\n",
       "      <td>0.001442</td>\n",
       "      <td>0.252756</td>\n",
       "      <td>-3.461987</td>\n",
       "      <td>2.266091</td>\n",
       "      <td>0.876994</td>\n",
       "      <td>0.1</td>\n",
       "    </tr>\n",
       "    <tr>\n",
       "      <th>58</th>\n",
       "      <td>10001</td>\n",
       "      <td>/Users/andrewmoore/work/llc/polysemia/polysemi...</td>\n",
       "      <td>The House on the Borderland</td>\n",
       "      <td>William Hope Hodgson,</td>\n",
       "      <td>1877.0</td>\n",
       "      <td>1918.0</td>\n",
       "      <td>['en']</td>\n",
       "      <td>593.0</td>\n",
       "      <td>{'Science fiction'}</td>\n",
       "      <td>Text</td>\n",
       "      <td>...</td>\n",
       "      <td>-3.931945</td>\n",
       "      <td>2.533627</td>\n",
       "      <td>1.809456</td>\n",
       "      <td>-1.332278</td>\n",
       "      <td>0.254802</td>\n",
       "      <td>0.998566</td>\n",
       "      <td>0.895532</td>\n",
       "      <td>0.472446</td>\n",
       "      <td>1.166062</td>\n",
       "      <td>0.1</td>\n",
       "    </tr>\n",
       "    <tr>\n",
       "      <th>59</th>\n",
       "      <td>10001</td>\n",
       "      <td>/Users/andrewmoore/work/llc/polysemia/polysemi...</td>\n",
       "      <td>The House on the Borderland</td>\n",
       "      <td>William Hope Hodgson,</td>\n",
       "      <td>1877.0</td>\n",
       "      <td>1918.0</td>\n",
       "      <td>['en']</td>\n",
       "      <td>593.0</td>\n",
       "      <td>{'Science fiction'}</td>\n",
       "      <td>Text</td>\n",
       "      <td>...</td>\n",
       "      <td>-1.003050</td>\n",
       "      <td>2.183686</td>\n",
       "      <td>0.339304</td>\n",
       "      <td>0.707843</td>\n",
       "      <td>1.416848</td>\n",
       "      <td>-1.393730</td>\n",
       "      <td>-0.531038</td>\n",
       "      <td>-4.268722</td>\n",
       "      <td>0.628903</td>\n",
       "      <td>0.1</td>\n",
       "    </tr>\n",
       "    <tr>\n",
       "      <th>60</th>\n",
       "      <td>10001</td>\n",
       "      <td>/Users/andrewmoore/work/llc/polysemia/polysemi...</td>\n",
       "      <td>The House on the Borderland</td>\n",
       "      <td>William Hope Hodgson,</td>\n",
       "      <td>1877.0</td>\n",
       "      <td>1918.0</td>\n",
       "      <td>['en']</td>\n",
       "      <td>593.0</td>\n",
       "      <td>{'Science fiction'}</td>\n",
       "      <td>Text</td>\n",
       "      <td>...</td>\n",
       "      <td>-4.775267</td>\n",
       "      <td>-1.249797</td>\n",
       "      <td>0.573541</td>\n",
       "      <td>1.263301</td>\n",
       "      <td>0.471378</td>\n",
       "      <td>0.988968</td>\n",
       "      <td>2.593343</td>\n",
       "      <td>-3.328923</td>\n",
       "      <td>-1.793346</td>\n",
       "      <td>0.1</td>\n",
       "    </tr>\n",
       "    <tr>\n",
       "      <th>62</th>\n",
       "      <td>10001</td>\n",
       "      <td>/Users/andrewmoore/work/llc/polysemia/polysemi...</td>\n",
       "      <td>The House on the Borderland</td>\n",
       "      <td>William Hope Hodgson,</td>\n",
       "      <td>1877.0</td>\n",
       "      <td>1918.0</td>\n",
       "      <td>['en']</td>\n",
       "      <td>593.0</td>\n",
       "      <td>{'Science fiction'}</td>\n",
       "      <td>Text</td>\n",
       "      <td>...</td>\n",
       "      <td>-2.617373</td>\n",
       "      <td>3.483191</td>\n",
       "      <td>-0.057470</td>\n",
       "      <td>-0.793285</td>\n",
       "      <td>0.837142</td>\n",
       "      <td>-0.535777</td>\n",
       "      <td>-0.008082</td>\n",
       "      <td>-0.526794</td>\n",
       "      <td>3.086334</td>\n",
       "      <td>0.1</td>\n",
       "    </tr>\n",
       "    <tr>\n",
       "      <th>64</th>\n",
       "      <td>10001</td>\n",
       "      <td>/Users/andrewmoore/work/llc/polysemia/polysemi...</td>\n",
       "      <td>The House on the Borderland</td>\n",
       "      <td>William Hope Hodgson,</td>\n",
       "      <td>1877.0</td>\n",
       "      <td>1918.0</td>\n",
       "      <td>['en']</td>\n",
       "      <td>593.0</td>\n",
       "      <td>{'Science fiction'}</td>\n",
       "      <td>Text</td>\n",
       "      <td>...</td>\n",
       "      <td>-2.149113</td>\n",
       "      <td>4.561814</td>\n",
       "      <td>0.250502</td>\n",
       "      <td>-2.090559</td>\n",
       "      <td>0.877504</td>\n",
       "      <td>-1.948779</td>\n",
       "      <td>0.664729</td>\n",
       "      <td>0.097105</td>\n",
       "      <td>2.697432</td>\n",
       "      <td>0.1</td>\n",
       "    </tr>\n",
       "    <tr>\n",
       "      <th>65</th>\n",
       "      <td>10001</td>\n",
       "      <td>/Users/andrewmoore/work/llc/polysemia/polysemi...</td>\n",
       "      <td>The House on the Borderland</td>\n",
       "      <td>William Hope Hodgson,</td>\n",
       "      <td>1877.0</td>\n",
       "      <td>1918.0</td>\n",
       "      <td>['en']</td>\n",
       "      <td>593.0</td>\n",
       "      <td>{'Science fiction'}</td>\n",
       "      <td>Text</td>\n",
       "      <td>...</td>\n",
       "      <td>-3.066115</td>\n",
       "      <td>1.473506</td>\n",
       "      <td>-1.640989</td>\n",
       "      <td>-1.015535</td>\n",
       "      <td>-1.893557</td>\n",
       "      <td>-0.158415</td>\n",
       "      <td>2.066831</td>\n",
       "      <td>0.885328</td>\n",
       "      <td>0.849324</td>\n",
       "      <td>0.1</td>\n",
       "    </tr>\n",
       "    <tr>\n",
       "      <th>67</th>\n",
       "      <td>10001</td>\n",
       "      <td>/Users/andrewmoore/work/llc/polysemia/polysemi...</td>\n",
       "      <td>The House on the Borderland</td>\n",
       "      <td>William Hope Hodgson,</td>\n",
       "      <td>1877.0</td>\n",
       "      <td>1918.0</td>\n",
       "      <td>['en']</td>\n",
       "      <td>593.0</td>\n",
       "      <td>{'Science fiction'}</td>\n",
       "      <td>Text</td>\n",
       "      <td>...</td>\n",
       "      <td>-6.698523</td>\n",
       "      <td>1.589937</td>\n",
       "      <td>-0.133702</td>\n",
       "      <td>0.938244</td>\n",
       "      <td>-1.008197</td>\n",
       "      <td>-0.653661</td>\n",
       "      <td>-0.818209</td>\n",
       "      <td>-0.665728</td>\n",
       "      <td>-0.084650</td>\n",
       "      <td>0.1</td>\n",
       "    </tr>\n",
       "    <tr>\n",
       "      <th>69</th>\n",
       "      <td>10001</td>\n",
       "      <td>/Users/andrewmoore/work/llc/polysemia/polysemi...</td>\n",
       "      <td>The House on the Borderland</td>\n",
       "      <td>William Hope Hodgson,</td>\n",
       "      <td>1877.0</td>\n",
       "      <td>1918.0</td>\n",
       "      <td>['en']</td>\n",
       "      <td>593.0</td>\n",
       "      <td>{'Science fiction'}</td>\n",
       "      <td>Text</td>\n",
       "      <td>...</td>\n",
       "      <td>-1.188078</td>\n",
       "      <td>-2.080741</td>\n",
       "      <td>-1.616821</td>\n",
       "      <td>3.272997</td>\n",
       "      <td>0.445881</td>\n",
       "      <td>-0.764181</td>\n",
       "      <td>0.708043</td>\n",
       "      <td>3.983420</td>\n",
       "      <td>0.417657</td>\n",
       "      <td>0.1</td>\n",
       "    </tr>\n",
       "  </tbody>\n",
       "</table>\n",
       "<p>39 rows × 23 columns</p>\n",
       "</div>"
      ],
      "text/plain": [
       "    index                                                 id  \\\n",
       "0    9999  /Users/andrewmoore/work/llc/polysemia/polysemi...   \n",
       "1    9999  /Users/andrewmoore/work/llc/polysemia/polysemi...   \n",
       "2    9999  /Users/andrewmoore/work/llc/polysemia/polysemi...   \n",
       "3    9999  /Users/andrewmoore/work/llc/polysemia/polysemi...   \n",
       "4    9999  /Users/andrewmoore/work/llc/polysemia/polysemi...   \n",
       "7    9999  /Users/andrewmoore/work/llc/polysemia/polysemi...   \n",
       "8    9999  /Users/andrewmoore/work/llc/polysemia/polysemi...   \n",
       "9    9999  /Users/andrewmoore/work/llc/polysemia/polysemi...   \n",
       "10   9999  /Users/andrewmoore/work/llc/polysemia/polysemi...   \n",
       "13   9999  /Users/andrewmoore/work/llc/polysemia/polysemi...   \n",
       "14   9999  /Users/andrewmoore/work/llc/polysemia/polysemi...   \n",
       "15   9999  /Users/andrewmoore/work/llc/polysemia/polysemi...   \n",
       "21  10001  /Users/andrewmoore/work/llc/polysemia/polysemi...   \n",
       "22  10001  /Users/andrewmoore/work/llc/polysemia/polysemi...   \n",
       "25  10001  /Users/andrewmoore/work/llc/polysemia/polysemi...   \n",
       "26  10001  /Users/andrewmoore/work/llc/polysemia/polysemi...   \n",
       "27  10001  /Users/andrewmoore/work/llc/polysemia/polysemi...   \n",
       "28  10001  /Users/andrewmoore/work/llc/polysemia/polysemi...   \n",
       "30  10001  /Users/andrewmoore/work/llc/polysemia/polysemi...   \n",
       "31  10001  /Users/andrewmoore/work/llc/polysemia/polysemi...   \n",
       "34  10001  /Users/andrewmoore/work/llc/polysemia/polysemi...   \n",
       "35  10001  /Users/andrewmoore/work/llc/polysemia/polysemi...   \n",
       "36  10001  /Users/andrewmoore/work/llc/polysemia/polysemi...   \n",
       "37  10001  /Users/andrewmoore/work/llc/polysemia/polysemi...   \n",
       "38  10001  /Users/andrewmoore/work/llc/polysemia/polysemi...   \n",
       "40  10001  /Users/andrewmoore/work/llc/polysemia/polysemi...   \n",
       "46  10001  /Users/andrewmoore/work/llc/polysemia/polysemi...   \n",
       "47  10001  /Users/andrewmoore/work/llc/polysemia/polysemi...   \n",
       "50  10001  /Users/andrewmoore/work/llc/polysemia/polysemi...   \n",
       "51  10001  /Users/andrewmoore/work/llc/polysemia/polysemi...   \n",
       "54  10001  /Users/andrewmoore/work/llc/polysemia/polysemi...   \n",
       "58  10001  /Users/andrewmoore/work/llc/polysemia/polysemi...   \n",
       "59  10001  /Users/andrewmoore/work/llc/polysemia/polysemi...   \n",
       "60  10001  /Users/andrewmoore/work/llc/polysemia/polysemi...   \n",
       "62  10001  /Users/andrewmoore/work/llc/polysemia/polysemi...   \n",
       "64  10001  /Users/andrewmoore/work/llc/polysemia/polysemi...   \n",
       "65  10001  /Users/andrewmoore/work/llc/polysemia/polysemi...   \n",
       "67  10001  /Users/andrewmoore/work/llc/polysemia/polysemi...   \n",
       "69  10001  /Users/andrewmoore/work/llc/polysemia/polysemi...   \n",
       "\n",
       "                          title                   author  authoryearofbirth  \\\n",
       "0               The Magna Carta              Anonymous,                 NaN   \n",
       "1               The Magna Carta              Anonymous,                 NaN   \n",
       "2               The Magna Carta              Anonymous,                 NaN   \n",
       "3               The Magna Carta              Anonymous,                 NaN   \n",
       "4               The Magna Carta              Anonymous,                 NaN   \n",
       "7               The Magna Carta              Anonymous,                 NaN   \n",
       "8               The Magna Carta              Anonymous,                 NaN   \n",
       "9               The Magna Carta              Anonymous,                 NaN   \n",
       "10              The Magna Carta              Anonymous,                 NaN   \n",
       "13              The Magna Carta              Anonymous,                 NaN   \n",
       "14              The Magna Carta              Anonymous,                 NaN   \n",
       "15              The Magna Carta              Anonymous,                 NaN   \n",
       "21  The House on the Borderland   William Hope Hodgson,              1877.0   \n",
       "22  The House on the Borderland   William Hope Hodgson,              1877.0   \n",
       "25  The House on the Borderland   William Hope Hodgson,              1877.0   \n",
       "26  The House on the Borderland   William Hope Hodgson,              1877.0   \n",
       "27  The House on the Borderland   William Hope Hodgson,              1877.0   \n",
       "28  The House on the Borderland   William Hope Hodgson,              1877.0   \n",
       "30  The House on the Borderland   William Hope Hodgson,              1877.0   \n",
       "31  The House on the Borderland   William Hope Hodgson,              1877.0   \n",
       "34  The House on the Borderland   William Hope Hodgson,              1877.0   \n",
       "35  The House on the Borderland   William Hope Hodgson,              1877.0   \n",
       "36  The House on the Borderland   William Hope Hodgson,              1877.0   \n",
       "37  The House on the Borderland   William Hope Hodgson,              1877.0   \n",
       "38  The House on the Borderland   William Hope Hodgson,              1877.0   \n",
       "40  The House on the Borderland   William Hope Hodgson,              1877.0   \n",
       "46  The House on the Borderland   William Hope Hodgson,              1877.0   \n",
       "47  The House on the Borderland   William Hope Hodgson,              1877.0   \n",
       "50  The House on the Borderland   William Hope Hodgson,              1877.0   \n",
       "51  The House on the Borderland   William Hope Hodgson,              1877.0   \n",
       "54  The House on the Borderland   William Hope Hodgson,              1877.0   \n",
       "58  The House on the Borderland   William Hope Hodgson,              1877.0   \n",
       "59  The House on the Borderland   William Hope Hodgson,              1877.0   \n",
       "60  The House on the Borderland   William Hope Hodgson,              1877.0   \n",
       "62  The House on the Borderland   William Hope Hodgson,              1877.0   \n",
       "64  The House on the Borderland   William Hope Hodgson,              1877.0   \n",
       "65  The House on the Borderland   William Hope Hodgson,              1877.0   \n",
       "67  The House on the Borderland   William Hope Hodgson,              1877.0   \n",
       "69  The House on the Borderland   William Hope Hodgson,              1877.0   \n",
       "\n",
       "    authoryearofdeath language  downloads  \\\n",
       "0                 NaN   ['en']      188.0   \n",
       "1                 NaN   ['en']      188.0   \n",
       "2                 NaN   ['en']      188.0   \n",
       "3                 NaN   ['en']      188.0   \n",
       "4                 NaN   ['en']      188.0   \n",
       "7                 NaN   ['en']      188.0   \n",
       "8                 NaN   ['en']      188.0   \n",
       "9                 NaN   ['en']      188.0   \n",
       "10                NaN   ['en']      188.0   \n",
       "13                NaN   ['en']      188.0   \n",
       "14                NaN   ['en']      188.0   \n",
       "15                NaN   ['en']      188.0   \n",
       "21             1918.0   ['en']      593.0   \n",
       "22             1918.0   ['en']      593.0   \n",
       "25             1918.0   ['en']      593.0   \n",
       "26             1918.0   ['en']      593.0   \n",
       "27             1918.0   ['en']      593.0   \n",
       "28             1918.0   ['en']      593.0   \n",
       "30             1918.0   ['en']      593.0   \n",
       "31             1918.0   ['en']      593.0   \n",
       "34             1918.0   ['en']      593.0   \n",
       "35             1918.0   ['en']      593.0   \n",
       "36             1918.0   ['en']      593.0   \n",
       "37             1918.0   ['en']      593.0   \n",
       "38             1918.0   ['en']      593.0   \n",
       "40             1918.0   ['en']      593.0   \n",
       "46             1918.0   ['en']      593.0   \n",
       "47             1918.0   ['en']      593.0   \n",
       "50             1918.0   ['en']      593.0   \n",
       "51             1918.0   ['en']      593.0   \n",
       "54             1918.0   ['en']      593.0   \n",
       "58             1918.0   ['en']      593.0   \n",
       "59             1918.0   ['en']      593.0   \n",
       "60             1918.0   ['en']      593.0   \n",
       "62             1918.0   ['en']      593.0   \n",
       "64             1918.0   ['en']      593.0   \n",
       "65             1918.0   ['en']      593.0   \n",
       "67             1918.0   ['en']      593.0   \n",
       "69             1918.0   ['en']      593.0   \n",
       "\n",
       "                                             subjects  type  ...         1  \\\n",
       "0   {'Magna Carta', 'Constitutional history -- Eng...  Text  ...  0.881886   \n",
       "1   {'Magna Carta', 'Constitutional history -- Eng...  Text  ... -1.911690   \n",
       "2   {'Magna Carta', 'Constitutional history -- Eng...  Text  ...  0.617966   \n",
       "3   {'Magna Carta', 'Constitutional history -- Eng...  Text  ...  0.334003   \n",
       "4   {'Magna Carta', 'Constitutional history -- Eng...  Text  ...  1.582301   \n",
       "7   {'Magna Carta', 'Constitutional history -- Eng...  Text  ... -2.197036   \n",
       "8   {'Magna Carta', 'Constitutional history -- Eng...  Text  ...  0.158496   \n",
       "9   {'Magna Carta', 'Constitutional history -- Eng...  Text  ... -1.145872   \n",
       "10  {'Magna Carta', 'Constitutional history -- Eng...  Text  ...  1.897795   \n",
       "13  {'Magna Carta', 'Constitutional history -- Eng...  Text  ... -2.576020   \n",
       "14  {'Magna Carta', 'Constitutional history -- Eng...  Text  ...  0.284728   \n",
       "15  {'Magna Carta', 'Constitutional history -- Eng...  Text  ... -0.854454   \n",
       "21                                {'Science fiction'}  Text  ... -3.182662   \n",
       "22                                {'Science fiction'}  Text  ... -2.389895   \n",
       "25                                {'Science fiction'}  Text  ...  4.250934   \n",
       "26                                {'Science fiction'}  Text  ... -5.347353   \n",
       "27                                {'Science fiction'}  Text  ... -4.775229   \n",
       "28                                {'Science fiction'}  Text  ...  2.135882   \n",
       "30                                {'Science fiction'}  Text  ...  0.196184   \n",
       "31                                {'Science fiction'}  Text  ... -2.571031   \n",
       "34                                {'Science fiction'}  Text  ...  0.286987   \n",
       "35                                {'Science fiction'}  Text  ... -4.001009   \n",
       "36                                {'Science fiction'}  Text  ...  3.069045   \n",
       "37                                {'Science fiction'}  Text  ... -2.140834   \n",
       "38                                {'Science fiction'}  Text  ... -2.831635   \n",
       "40                                {'Science fiction'}  Text  ... -1.207321   \n",
       "46                                {'Science fiction'}  Text  ... -2.920223   \n",
       "47                                {'Science fiction'}  Text  ... -4.209077   \n",
       "50                                {'Science fiction'}  Text  ... -1.494726   \n",
       "51                                {'Science fiction'}  Text  ...  0.862535   \n",
       "54                                {'Science fiction'}  Text  ...  1.235407   \n",
       "58                                {'Science fiction'}  Text  ... -3.931945   \n",
       "59                                {'Science fiction'}  Text  ... -1.003050   \n",
       "60                                {'Science fiction'}  Text  ... -4.775267   \n",
       "62                                {'Science fiction'}  Text  ... -2.617373   \n",
       "64                                {'Science fiction'}  Text  ... -2.149113   \n",
       "65                                {'Science fiction'}  Text  ... -3.066115   \n",
       "67                                {'Science fiction'}  Text  ... -6.698523   \n",
       "69                                {'Science fiction'}  Text  ... -1.188078   \n",
       "\n",
       "           2         3         4         5         6         7         8  \\\n",
       "0  -0.528351 -1.895368  0.613471 -1.317061  0.666994 -0.690474  1.178499   \n",
       "1   0.076905 -0.488904  0.314233 -0.213403  3.445475  1.326531 -1.098274   \n",
       "2  -4.746714 -0.502597  2.461632 -2.433477 -1.375246 -0.716915 -1.882135   \n",
       "3   1.001794 -1.550493  0.328001 -1.194864  2.698033 -2.074622 -0.282820   \n",
       "4  -4.303625  1.338778  1.234804 -1.112276 -3.238378 -1.080543 -1.398403   \n",
       "7   4.382241 -2.018462 -2.064909 -1.512171  0.225321 -1.777179  0.159914   \n",
       "8  -2.281681 -0.424756  1.609536 -1.421711  3.295506 -1.250035 -0.302559   \n",
       "9   3.972378 -3.045503 -1.978160  0.412484  1.129781 -1.224859 -1.056059   \n",
       "10 -3.856409  1.358099  0.753512 -1.040547 -3.104825 -1.069534 -1.416816   \n",
       "13  4.269138 -1.877802 -2.189383 -1.072178  0.386360 -1.842466  0.131196   \n",
       "14 -2.484226 -0.824795  1.536216 -0.859563  3.963741 -0.929690 -0.102476   \n",
       "15  5.059782 -2.747875 -2.766332  0.535797  1.061759 -1.495788 -0.649908   \n",
       "21  3.990662 -0.410465 -0.964910  1.853510 -1.288878  1.171207 -0.578533   \n",
       "22  2.568982  0.501959 -0.946002 -0.548117 -1.412351 -0.232065  1.356159   \n",
       "25 -1.757390 -4.382349  0.042665  1.869009  0.675841  2.090021  2.097722   \n",
       "26  1.172527 -3.012688  1.258313  1.562330 -1.568665  0.632384  1.855346   \n",
       "27  2.362034  0.577981 -0.271115  1.973270 -0.715672 -0.492747  1.874075   \n",
       "28 -3.205997  1.869510 -0.476542  4.130949 -0.236990 -0.522073  0.862085   \n",
       "30 -3.419916  1.065143  1.274266  2.412234  1.399968  0.415380  2.573652   \n",
       "31 -0.725992  1.087797  1.315960  1.478726  0.829195  1.686666 -2.180696   \n",
       "34 -2.159174 -3.253199  0.483909  1.715001 -0.627696  0.469398  0.863166   \n",
       "35 -0.213731  0.760523  0.639394 -0.265449  1.661148  0.738969 -2.924111   \n",
       "36 -2.689487 -2.682739  1.272268  2.212829  0.642206  0.085517  2.496469   \n",
       "37 -1.935607  3.261601 -1.180233  0.981199 -0.145493 -0.513875 -2.582397   \n",
       "38  2.620609  0.931536 -1.014223  3.268214 -0.374603 -1.311380 -2.014380   \n",
       "40  3.066068  1.791205  0.266218  4.145644 -1.030488 -1.828797  1.478488   \n",
       "46  3.321069  2.338301 -1.237427  1.588350  0.141763 -0.893479  2.884371   \n",
       "47  0.787466  1.085279  0.618015  2.059962 -0.692174 -3.332707  1.360952   \n",
       "50  0.451475 -1.306677 -0.206224  0.314116  1.236269  0.629676 -0.734703   \n",
       "51 -2.026194 -2.471431  0.035473  0.382021 -2.532116 -0.207853  0.545320   \n",
       "54 -3.317103  1.533554  2.885575  0.001442  0.252756 -3.461987  2.266091   \n",
       "58  2.533627  1.809456 -1.332278  0.254802  0.998566  0.895532  0.472446   \n",
       "59  2.183686  0.339304  0.707843  1.416848 -1.393730 -0.531038 -4.268722   \n",
       "60 -1.249797  0.573541  1.263301  0.471378  0.988968  2.593343 -3.328923   \n",
       "62  3.483191 -0.057470 -0.793285  0.837142 -0.535777 -0.008082 -0.526794   \n",
       "64  4.561814  0.250502 -2.090559  0.877504 -1.948779  0.664729  0.097105   \n",
       "65  1.473506 -1.640989 -1.015535 -1.893557 -0.158415  2.066831  0.885328   \n",
       "67  1.589937 -0.133702  0.938244 -1.008197 -0.653661 -0.818209 -0.665728   \n",
       "69 -2.080741 -1.616821  3.272997  0.445881 -0.764181  0.708043  3.983420   \n",
       "\n",
       "           9  size  \n",
       "0   0.852587   0.1  \n",
       "1  -0.549277   0.1  \n",
       "2   2.516887   0.1  \n",
       "3   0.619872   0.1  \n",
       "4   1.262514   0.1  \n",
       "7  -0.383437   0.1  \n",
       "8   0.964264   0.1  \n",
       "9   1.642605   0.1  \n",
       "10  1.282771   0.1  \n",
       "13 -0.320002   0.1  \n",
       "14  0.891452   0.1  \n",
       "15  0.797906   0.1  \n",
       "21  1.068842   0.1  \n",
       "22  1.380826   0.1  \n",
       "25 -0.252930   0.1  \n",
       "26  1.407392   0.1  \n",
       "27  1.160904   0.1  \n",
       "28  2.575542   0.1  \n",
       "30 -0.528307   0.1  \n",
       "31 -1.337012   0.1  \n",
       "34  1.041384   0.1  \n",
       "35 -2.589478   0.1  \n",
       "36 -1.018695   0.1  \n",
       "37 -0.958416   0.1  \n",
       "38 -0.710950   0.1  \n",
       "40  0.680200   0.1  \n",
       "46 -1.352766   0.1  \n",
       "47 -1.769423   0.1  \n",
       "50 -1.644490   0.1  \n",
       "51 -2.593861   0.1  \n",
       "54  0.876994   0.1  \n",
       "58  1.166062   0.1  \n",
       "59  0.628903   0.1  \n",
       "60 -1.793346   0.1  \n",
       "62  3.086334   0.1  \n",
       "64  2.697432   0.1  \n",
       "65  0.849324   0.1  \n",
       "67 -0.084650   0.1  \n",
       "69  0.417657   0.1  \n",
       "\n",
       "[39 rows x 23 columns]"
      ]
     },
     "execution_count": 18,
     "metadata": {},
     "output_type": "execute_result"
    }
   ],
   "source": [
    "# Format the dataframe for display purposes\n",
    "df = pd.concat([metadata.reset_index(), pd.DataFrame(clustering.astype(int), columns=['cluster']), pd.DataFrame(transformed_data)], axis = 1)\n",
    "df['size'] = [0.1] * len(df)\n",
    "df['author'] = df['author'].apply(lambda author : format_author(author) + \", \" if type(author) is str else \"\")\n",
    "\n",
    "# Select only core points\n",
    "df = df[df['cluster'] >= 0]\n",
    "\n",
    "# Display data\n",
    "fig = px.scatter_3d(\n",
    "    df, \n",
    "    x = 0, \n",
    "    y = 1, \n",
    "    z = 2, \n",
    "    custom_data=['context','author','title'],\n",
    "    color = 'cluster',\n",
    "    color_discrete_sequence = px.colors.qualitative.D3,\n",
    "    color_continuous_scale = px.colors.cyclical.Phase,\n",
    "    size = 'size', \n",
    "    opacity = 1.0, \n",
    "    width = 800, \n",
    "    height = 800\n",
    "    )\n",
    "fig.update_traces(hovertemplate='<b>%{customdata[0]}</b><br>%{customdata[1]}<i>%{customdata[2]}</i>')\n",
    "fig.show()\n",
    "\n",
    "df"
   ]
  },
  {
   "cell_type": "code",
   "execution_count": null,
   "metadata": {},
   "outputs": [],
   "source": []
  }
 ],
 "metadata": {
  "kernelspec": {
   "display_name": ".env",
   "language": "python",
   "name": "python3"
  },
  "language_info": {
   "codemirror_mode": {
    "name": "ipython",
    "version": 3
   },
   "file_extension": ".py",
   "mimetype": "text/x-python",
   "name": "python",
   "nbconvert_exporter": "python",
   "pygments_lexer": "ipython3",
   "version": "3.12.1"
  },
  "orig_nbformat": 4
 },
 "nbformat": 4,
 "nbformat_minor": 2
}
