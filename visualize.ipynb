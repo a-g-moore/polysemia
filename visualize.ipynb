{
 "cells": [
  {
   "attachments": {},
   "cell_type": "markdown",
   "metadata": {},
   "source": [
    "# Setup and Settings\n",
    "\n",
    "Necessary imports and settings:"
   ]
  },
  {
   "cell_type": "code",
   "execution_count": 2,
   "metadata": {},
   "outputs": [],
   "source": [
    "import torch, os\n",
    "from sklearn.decomposition import PCA\n",
    "from sklearn.cluster import OPTICS\n",
    "import pandas as pd\n",
    "import plotly.io as pio\n",
    "import plotly.express as px\n",
    "pio.renderers.default = \"vscode\""
   ]
  },
  {
   "attachments": {},
   "cell_type": "markdown",
   "metadata": {},
   "source": [
    "We now select a word to analyze. Note that to visualize data, you must have already created the processed data file using \n",
    "```sh\n",
    "python main.py --word [your_word]\n",
    "```\n",
    "\n",
    "Processed data will be loaded from `cache/[your_word].pt`. "
   ]
  },
  {
   "cell_type": "code",
   "execution_count": 3,
   "metadata": {},
   "outputs": [],
   "source": [
    "word = 'right'"
   ]
  },
  {
   "attachments": {},
   "cell_type": "markdown",
   "metadata": {},
   "source": [
    "# Visualization\n",
    "\n",
    "Running the following code block will create an interactive 3D PCA plot of the data extracted for the chosen word."
   ]
  },
  {
   "cell_type": "code",
   "execution_count": null,
   "metadata": {},
   "outputs": [],
   "source": [
    "\n",
    "def format_author(author):\n",
    "    return ' '.join(author.split(',')[::-1])\n",
    "\n",
    "# Load the cached data for this word and ouput the sample size\n",
    "with open(os.path.join(os.getcwd(), f'cache/{word}.pt'), 'rb') as FILE:\n",
    "    tensor, metadata = torch.load(FILE)\n",
    "\n",
    "num_samples = len(metadata)\n",
    "print(f'Number of samples: {num_samples}')\n",
    "\n",
    "# Preform PCA on the embedded vectors\n",
    "pca = PCA(n_components = 10)\n",
    "transformed_data = pca.fit_transform(tensor.to('cpu').numpy())\n",
    "clustering = OPTICS(xi = 0.01).fit_predict(transformed_data)\n",
    "\n",
    "# Format the dataframe for display purposes\n",
    "df = pd.concat([metadata.reset_index(), pd.DataFrame(clustering, columns=['cluster']), pd.DataFrame(transformed_data)], axis = 1)\n",
    "df = df[df['cluster'] > 0]\n",
    "df['size'] = [0.1] * len(df)\n",
    "df['author'] = df['author'].apply(lambda author : format_author(author) + \", \" if type(author) is str else \"\")\n",
    "\n",
    "# Display data\n",
    "fig = px.scatter_3d(\n",
    "    df, \n",
    "    x = 0, \n",
    "    y = 1, \n",
    "    z = 2, \n",
    "    custom_data=['context','author','title'],\n",
    "    color = 'cluster',\n",
    "    size = 'size', \n",
    "    opacity = 0.1, \n",
    "    width = 800, \n",
    "    height = 800\n",
    "    )\n",
    "fig.update_traces(hovertemplate='<b>%{customdata[0]}</b><br>%{customdata[1]}<i>%{customdata[2]}</i>')\n",
    "fig.show()\n",
    "\n",
    "df"
   ]
  }
 ],
 "metadata": {
  "kernelspec": {
   "display_name": "env",
   "language": "python",
   "name": "python3"
  },
  "language_info": {
   "codemirror_mode": {
    "name": "ipython",
    "version": 3
   },
   "file_extension": ".py",
   "mimetype": "text/x-python",
   "name": "python",
   "nbconvert_exporter": "python",
   "pygments_lexer": "ipython3",
   "version": "3.8.10 (default, Nov 14 2022, 12:59:47) \n[GCC 9.4.0]"
  },
  "orig_nbformat": 4,
  "vscode": {
   "interpreter": {
    "hash": "625a336548099794a020577189b674b0f8b339a3f8209a672c5e0381bbb478b0"
   }
  }
 },
 "nbformat": 4,
 "nbformat_minor": 2
}
